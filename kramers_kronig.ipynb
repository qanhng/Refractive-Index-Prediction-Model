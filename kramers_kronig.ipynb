{
 "cells": [
  {
   "cell_type": "markdown",
   "metadata": {},
   "source": [
    "#### Kramers-Kronig calculation to predict refractive index over the full wavelength spectrum"
   ]
  },
  {
   "cell_type": "code",
   "execution_count": 57,
   "metadata": {},
   "outputs": [],
   "source": [
    "import pandas as pd\n",
    "import math\n",
    "import numpy as np\n",
    "import re\n",
    "import seaborn as sns\n",
    "import matplotlib.pyplot as plt\n",
    "from scipy.integrate import quad\n",
    "from scipy.interpolate import interp1d"
   ]
  },
  {
   "cell_type": "markdown",
   "metadata": {},
   "source": [
    "Workflow:  \n",
    "- Import full spectrum absorbance data\n",
    "- Calculate absorption coefficient and imaginary part of RI\n",
    "- Set reference RI (starting point) as the predicted RI (from prediction model) at a specific concentration\n",
    "- Run the kramers-kronig calculation"
   ]
  },
  {
   "cell_type": "code",
   "execution_count": 58,
   "metadata": {},
   "outputs": [],
   "source": [
    "def abs_coefficient(absorbance, \n",
    "                    used_conc, \n",
    "                    predict_conc):\n",
    "    \"\"\" Calculate the absorption coefficient using Beer's law with the measured \n",
    "        absorbance, the concentration used in measurement, and the desired \n",
    "        concentration for prediction. \"\"\"\n",
    "    \n",
    "    e = absorbance / used_conc  # Molar absorptivity\n",
    "    alpha = e * predict_conc    # Absorption coefficient\n",
    "\n",
    "    return alpha"
   ]
  },
  {
   "cell_type": "code",
   "execution_count": 59,
   "metadata": {},
   "outputs": [],
   "source": [
    "def kramers_kronig(wavelengths,\n",
    "                   abs_coeff,\n",
    "                   ref_ri):\n",
    "    \"\"\" Predict refractive index over the full spectrum using the Kramers-Kronig relation.\n",
    "        Input the wavelengths, absorbance, concentration used when measuring abs, desired\n",
    "        concentration for prediction, and ref_ri - predicted RI using prediction model at\n",
    "        the desired concentration. \"\"\"\n",
    "    \n",
    "    # Compute imaginary part of RI\n",
    "    k = (abs_coeff * (wavelengths * 1e-7)) / (4 * np.pi)\n",
    "    \n",
    "    ri_values = []\n",
    "    \n",
    "    # Iterate over the full wavelength spectrum, treating each point as the target\n",
    "    for target_lambda in wavelengths:\n",
    "\n",
    "        # Unit conversion (nm to m)\n",
    "        wavelengths_m = wavelengths * 1e-9\n",
    "        target_lambda = target_lambda * 1e-9\n",
    "        \n",
    "        # Eliminate point where denominator is 0 (where lambda' = lambda)\n",
    "        limit = ~np.isclose(wavelengths_m, target_lambda)\n",
    "        k_valid = k[limit]\n",
    "        alpha_valid = abs_coeff[limit]\n",
    "        wavelengths_valid = wavelengths_m[limit]\n",
    "\n",
    "        # Set Kramers-Kronig integration variables\n",
    "        denominator = wavelengths_valid * (1 - (wavelengths_valid**2 / target_lambda**2))\n",
    "\n",
    "        # Set integrand\n",
    "        integrand = k_valid / denominator\n",
    "\n",
    "        # Perform integration using trapezoidal rule\n",
    "        delta_n = (2 / np.pi) * np.trapz(integrand, wavelengths_valid)\n",
    "        n = ref_ri + delta_n\n",
    "        ri_values.append(n)\n",
    "    \n",
    "    return ri_values"
   ]
  },
  {
   "cell_type": "code",
   "execution_count": 60,
   "metadata": {},
   "outputs": [],
   "source": [
    "def plot_spectrum(compound_name,\n",
    "                  conc,\n",
    "                  wavelengths, \n",
    "                  abs_coeff, \n",
    "                  ri_spectrum,\n",
    "                  y_min=1.32,\n",
    "                  y_max=1.54):\n",
    "    \"\"\" Plot the predicted RI values and absorbance over the full spectrum. Input\n",
    "        the compound name and concentration, wavelengths, absorption coefficient (alpha),\n",
    "        RI values from Kramers-Kronig integration. The Y-axis limits are set, however if needed\n",
    "        to change, included y_min= and/or y_max= when calling the function. \"\"\"\n",
    "\n",
    "    # Plot the predict RI values and absorbance over the full spectrum\n",
    "    fig, ax1 = plt.subplots()\n",
    "\n",
    "    # Plot RI\n",
    "    ax1.plot(wavelengths, ri_spectrum, \"b-\", label=\"RI\")\n",
    "    ax1.set_xlabel(\"Wavelengths (nm)\")\n",
    "    ax1.set_ylabel(\"Predicted refractive index\", color=\"b\")\n",
    "    ax1.set_yticks(np.arange(y_min, y_max, 0.02))\n",
    "    ax1.tick_params(\"y\", colors=\"b\")\n",
    "\n",
    "    # Plot absorbance\n",
    "    ax2 = ax1.twinx()\n",
    "    ax2.plot(wavelengths, abs_coeff, \"r-\", label=\"Absorbance\")\n",
    "    ax2.set_ylabel(\"Absorption coefficient\", color=\"r\")\n",
    "    ax2.tick_params(\"y\", colors=\"r\")\n",
    "    \n",
    "    plt.title(f\"Predicted RI and absorbance of {compound_name} ({conc})\")\n",
    "    lines, labels = ax1.get_legend_handles_labels()\n",
    "    lines2, labels2 = ax2.get_legend_handles_labels()\n",
    "    ax2.legend(lines + lines2, labels + labels2, loc = \"upper right\")\n",
    "\n",
    "    plt.show()"
   ]
  },
  {
   "cell_type": "markdown",
   "metadata": {},
   "source": [
    "#### Kramers-Kronig calculation to get the full RI spectrum"
   ]
  },
  {
   "cell_type": "markdown",
   "metadata": {},
   "source": [
    "To import absorbance data to run Kramers-Kronig calculation, add the absorbance data file to the folder \"data\"."
   ]
  },
  {
   "cell_type": "markdown",
   "metadata": {},
   "source": [
    "#### Tartrazine"
   ]
  },
  {
   "cell_type": "code",
   "execution_count": 13,
   "metadata": {},
   "outputs": [
    {
     "data": {
      "text/html": [
       "<div>\n",
       "<style scoped>\n",
       "    .dataframe tbody tr th:only-of-type {\n",
       "        vertical-align: middle;\n",
       "    }\n",
       "\n",
       "    .dataframe tbody tr th {\n",
       "        vertical-align: top;\n",
       "    }\n",
       "\n",
       "    .dataframe thead th {\n",
       "        text-align: right;\n",
       "    }\n",
       "</style>\n",
       "<table border=\"1\" class=\"dataframe\">\n",
       "  <thead>\n",
       "    <tr style=\"text-align: right;\">\n",
       "      <th></th>\n",
       "      <th>Wavelengths</th>\n",
       "      <th>Abs</th>\n",
       "    </tr>\n",
       "  </thead>\n",
       "  <tbody>\n",
       "    <tr>\n",
       "      <th>300</th>\n",
       "      <td>292.36</td>\n",
       "      <td>0.035</td>\n",
       "    </tr>\n",
       "    <tr>\n",
       "      <th>301</th>\n",
       "      <td>292.73</td>\n",
       "      <td>0.033</td>\n",
       "    </tr>\n",
       "    <tr>\n",
       "      <th>302</th>\n",
       "      <td>293.11</td>\n",
       "      <td>0.029</td>\n",
       "    </tr>\n",
       "    <tr>\n",
       "      <th>303</th>\n",
       "      <td>293.48</td>\n",
       "      <td>0.028</td>\n",
       "    </tr>\n",
       "    <tr>\n",
       "      <th>304</th>\n",
       "      <td>293.86</td>\n",
       "      <td>0.025</td>\n",
       "    </tr>\n",
       "    <tr>\n",
       "      <th>...</th>\n",
       "      <td>...</td>\n",
       "      <td>...</td>\n",
       "    </tr>\n",
       "    <tr>\n",
       "      <th>2005</th>\n",
       "      <td>871.55</td>\n",
       "      <td>-0.002</td>\n",
       "    </tr>\n",
       "    <tr>\n",
       "      <th>2006</th>\n",
       "      <td>871.85</td>\n",
       "      <td>-0.004</td>\n",
       "    </tr>\n",
       "    <tr>\n",
       "      <th>2007</th>\n",
       "      <td>872.15</td>\n",
       "      <td>-0.003</td>\n",
       "    </tr>\n",
       "    <tr>\n",
       "      <th>2008</th>\n",
       "      <td>872.45</td>\n",
       "      <td>-0.003</td>\n",
       "    </tr>\n",
       "    <tr>\n",
       "      <th>2009</th>\n",
       "      <td>872.75</td>\n",
       "      <td>-0.005</td>\n",
       "    </tr>\n",
       "  </tbody>\n",
       "</table>\n",
       "<p>1710 rows × 2 columns</p>\n",
       "</div>"
      ],
      "text/plain": [
       "      Wavelengths    Abs\n",
       "300        292.36  0.035\n",
       "301        292.73  0.033\n",
       "302        293.11  0.029\n",
       "303        293.48  0.028\n",
       "304        293.86  0.025\n",
       "...           ...    ...\n",
       "2005       871.55 -0.002\n",
       "2006       871.85 -0.004\n",
       "2007       872.15 -0.003\n",
       "2008       872.45 -0.003\n",
       "2009       872.75 -0.005\n",
       "\n",
       "[1710 rows x 2 columns]"
      ]
     },
     "execution_count": 13,
     "metadata": {},
     "output_type": "execute_result"
    }
   ],
   "source": [
    "# Read data from .txt file with measured absorbance data\n",
    "abs = pd.read_csv(\"data/TTZ 10µM PBS abs.txt\", sep=\"\\t\", header=None)\n",
    "\n",
    "# Rename the columns in the data table\n",
    "abs.columns = [\"Wavelengths\", \"Abs\"]\n",
    "\n",
    "# Set the wavelengths limit - this can be changed to eliminate negative absorbance\n",
    "abs = abs[300:2010]\n",
    "\n",
    "abs"
   ]
  },
  {
   "cell_type": "code",
   "execution_count": 15,
   "metadata": {},
   "outputs": [],
   "source": [
    "# Calculate absorption coefficient at each wavelength\n",
    "abs_coeff = abs_coefficient(abs[\"Abs\"], # Absorbance column from table\n",
    "                            10 * 1e-6,  # Concentration used for measurement - 10 uM (convert to M)\n",
    "                            1)  # Concentration for prediction (in M)"
   ]
  },
  {
   "cell_type": "code",
   "execution_count": 55,
   "metadata": {},
   "outputs": [
    {
     "data": {
      "image/png": "[encoded data removed]",
      "text/plain": [
       "<Figure size 640x480 with 2 Axes>"
      ]
     },
     "metadata": {},
     "output_type": "display_data"
    }
   ],
   "source": [
    "# Kramers-Kronig calculation\n",
    "\n",
    "# Get the predicted RI using the XGBoost model at the specified concentration\n",
    "ref_ri = 1.428\n",
    "\n",
    "# Perform the integration to get full spectrum RI\n",
    "ri_spectrum = kramers_kronig(abs[\"Wavelengths\"],\n",
    "                             abs_coeff,\n",
    "                             ref_ri)\n",
    "\n",
    "# Plot the spectrum\n",
    "plot_spectrum(\"Tartrazine\",\n",
    "              \"1 M\",\n",
    "              abs[\"Wavelengths\"],\n",
    "              abs_coeff,\n",
    "              ri_spectrum)"
   ]
  },
  {
   "cell_type": "markdown",
   "metadata": {},
   "source": [
    "#### Methylene blue"
   ]
  },
  {
   "cell_type": "code",
   "execution_count": null,
   "metadata": {},
   "outputs": [],
   "source": []
  }
 ],
 "metadata": {
  "kernelspec": {
   "display_name": "ds2500",
   "language": "python",
   "name": "python3"
  },
  "language_info": {
   "codemirror_mode": {
    "name": "ipython",
    "version": 3
   },
   "file_extension": ".py",
   "mimetype": "text/x-python",
   "name": "python",
   "nbconvert_exporter": "python",
   "pygments_lexer": "ipython3",
   "version": "3.10.8"
  }
 },
 "nbformat": 4,
 "nbformat_minor": 2
}
