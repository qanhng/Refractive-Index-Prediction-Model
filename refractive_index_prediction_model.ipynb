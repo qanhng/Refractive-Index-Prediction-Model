{
 "cells": [
  {
   "cell_type": "code",
   "execution_count": 54,
   "metadata": {},
   "outputs": [],
   "source": [
    "import pandas as pd\n",
    "import numpy as np\n",
    "import seaborn as sns\n",
    "import matplotlib.pyplot as plt\n",
    "from rdkit import Chem\n",
    "from rdkit.Chem import rdMolDescriptors, Descriptors, Crippen, Fingerprints\n",
    "import xgboost as xgb\n",
    "from sklearn.model_selection import train_test_split, cross_val_score, GridSearchCV\n",
    "from sklearn.metrics import mean_squared_error, r2_score, mean_absolute_error\n",
    "import shap"
   ]
  },
  {
   "cell_type": "code",
   "execution_count": 55,
   "metadata": {},
   "outputs": [
    {
     "data": {
      "text/html": [
       "<div>\n",
       "<style scoped>\n",
       "    .dataframe tbody tr th:only-of-type {\n",
       "        vertical-align: middle;\n",
       "    }\n",
       "\n",
       "    .dataframe tbody tr th {\n",
       "        vertical-align: top;\n",
       "    }\n",
       "\n",
       "    .dataframe thead th {\n",
       "        text-align: right;\n",
       "    }\n",
       "</style>\n",
       "<table border=\"1\" class=\"dataframe\">\n",
       "  <thead>\n",
       "    <tr style=\"text-align: right;\">\n",
       "      <th></th>\n",
       "      <th>Name</th>\n",
       "      <th>Cas No.</th>\n",
       "      <th>solubility</th>\n",
       "      <th>predicted pH</th>\n",
       "      <th>RI</th>\n",
       "      <th>smiles</th>\n",
       "      <th>mols</th>\n",
       "      <th>mw</th>\n",
       "      <th>exactmw</th>\n",
       "      <th>amw</th>\n",
       "      <th>...</th>\n",
       "      <th>kappa1</th>\n",
       "      <th>kappa2</th>\n",
       "      <th>kappa3</th>\n",
       "      <th>Phi</th>\n",
       "      <th>single</th>\n",
       "      <th>double</th>\n",
       "      <th>molar_conc_low</th>\n",
       "      <th>ri</th>\n",
       "      <th>molar_conc_high</th>\n",
       "      <th>molar_conc</th>\n",
       "    </tr>\n",
       "  </thead>\n",
       "  <tbody>\n",
       "    <tr>\n",
       "      <th>0</th>\n",
       "      <td>Dipotassium Anthraquinone-1,8-disulfonate</td>\n",
       "      <td>14938-42-2</td>\n",
       "      <td>-</td>\n",
       "      <td>5.633900</td>\n",
       "      <td>1.3335</td>\n",
       "      <td>[K+].[K+].[O-][S](=O)(=O)c1cccc2C(=O)c3cccc(c3...</td>\n",
       "      <td>&lt;rdkit.Chem.rdchem.Mol object at 0x7fcf3a7ddd60&gt;</td>\n",
       "      <td>444.524</td>\n",
       "      <td>443.877823</td>\n",
       "      <td>444.524</td>\n",
       "      <td>...</td>\n",
       "      <td>24.909940</td>\n",
       "      <td>8.708168</td>\n",
       "      <td>4.382474</td>\n",
       "      <td>8.343075</td>\n",
       "      <td>14</td>\n",
       "      <td>6</td>\n",
       "      <td>0.224960</td>\n",
       "      <td>1.333500</td>\n",
       "      <td>2</td>\n",
       "      <td>0.224960</td>\n",
       "    </tr>\n",
       "    <tr>\n",
       "      <th>1</th>\n",
       "      <td>5-Amino-1-pentanol</td>\n",
       "      <td>2508-29-4</td>\n",
       "      <td>+</td>\n",
       "      <td>12.526278</td>\n",
       "      <td>1.3463</td>\n",
       "      <td>[NH3+]CCCCCO</td>\n",
       "      <td>&lt;rdkit.Chem.rdchem.Mol object at 0x7fcf3a7ddf20&gt;</td>\n",
       "      <td>104.173</td>\n",
       "      <td>104.106990</td>\n",
       "      <td>104.173</td>\n",
       "      <td>...</td>\n",
       "      <td>6.920000</td>\n",
       "      <td>5.920000</td>\n",
       "      <td>5.920000</td>\n",
       "      <td>5.852343</td>\n",
       "      <td>20</td>\n",
       "      <td>0</td>\n",
       "      <td>0.959942</td>\n",
       "      <td>1.346300</td>\n",
       "      <td>2</td>\n",
       "      <td>0.959942</td>\n",
       "    </tr>\n",
       "    <tr>\n",
       "      <th>2</th>\n",
       "      <td>(2-Amino-4-thiazolyl)acetic Acid</td>\n",
       "      <td>29676-71-9</td>\n",
       "      <td>-</td>\n",
       "      <td>5.877254</td>\n",
       "      <td>1.3490</td>\n",
       "      <td>Nc1scc(CC(O)=O)n1</td>\n",
       "      <td>&lt;rdkit.Chem.rdchem.Mol object at 0x7fcf3a7dde40&gt;</td>\n",
       "      <td>158.182</td>\n",
       "      <td>158.014998</td>\n",
       "      <td>158.182</td>\n",
       "      <td>...</td>\n",
       "      <td>7.012360</td>\n",
       "      <td>2.656020</td>\n",
       "      <td>1.696130</td>\n",
       "      <td>1.862497</td>\n",
       "      <td>10</td>\n",
       "      <td>1</td>\n",
       "      <td>0.632183</td>\n",
       "      <td>1.349000</td>\n",
       "      <td>2</td>\n",
       "      <td>0.632183</td>\n",
       "    </tr>\n",
       "    <tr>\n",
       "      <th>3</th>\n",
       "      <td>4-Amino-1-butanol</td>\n",
       "      <td>13325-10-5</td>\n",
       "      <td>+</td>\n",
       "      <td>12.263965</td>\n",
       "      <td>1.3442</td>\n",
       "      <td>[NH3+]CCCCO</td>\n",
       "      <td>&lt;rdkit.Chem.rdchem.Mol object at 0x7fcf3a7ddeb0&gt;</td>\n",
       "      <td>90.146</td>\n",
       "      <td>90.091340</td>\n",
       "      <td>90.146</td>\n",
       "      <td>...</td>\n",
       "      <td>5.920000</td>\n",
       "      <td>4.920000</td>\n",
       "      <td>3.920000</td>\n",
       "      <td>4.854400</td>\n",
       "      <td>17</td>\n",
       "      <td>0</td>\n",
       "      <td>1.109312</td>\n",
       "      <td>1.344200</td>\n",
       "      <td>2</td>\n",
       "      <td>1.109312</td>\n",
       "    </tr>\n",
       "    <tr>\n",
       "      <th>4</th>\n",
       "      <td>6-Amino-1-hexanol</td>\n",
       "      <td>4048-33-3</td>\n",
       "      <td>+</td>\n",
       "      <td>11.939876</td>\n",
       "      <td>1.3458</td>\n",
       "      <td>NCCCCCCO</td>\n",
       "      <td>&lt;rdkit.Chem.rdchem.Mol object at 0x7fceec1c95f0&gt;</td>\n",
       "      <td>117.192</td>\n",
       "      <td>117.115364</td>\n",
       "      <td>117.192</td>\n",
       "      <td>...</td>\n",
       "      <td>7.920000</td>\n",
       "      <td>6.920000</td>\n",
       "      <td>5.920000</td>\n",
       "      <td>6.850800</td>\n",
       "      <td>22</td>\n",
       "      <td>0</td>\n",
       "      <td>0.853301</td>\n",
       "      <td>1.345800</td>\n",
       "      <td>2</td>\n",
       "      <td>0.853301</td>\n",
       "    </tr>\n",
       "    <tr>\n",
       "      <th>...</th>\n",
       "      <td>...</td>\n",
       "      <td>...</td>\n",
       "      <td>...</td>\n",
       "      <td>...</td>\n",
       "      <td>...</td>\n",
       "      <td>...</td>\n",
       "      <td>...</td>\n",
       "      <td>...</td>\n",
       "      <td>...</td>\n",
       "      <td>...</td>\n",
       "      <td>...</td>\n",
       "      <td>...</td>\n",
       "      <td>...</td>\n",
       "      <td>...</td>\n",
       "      <td>...</td>\n",
       "      <td>...</td>\n",
       "      <td>...</td>\n",
       "      <td>...</td>\n",
       "      <td>...</td>\n",
       "      <td>...</td>\n",
       "      <td>...</td>\n",
       "    </tr>\n",
       "    <tr>\n",
       "      <th>2855</th>\n",
       "      <td>NaOH</td>\n",
       "      <td>1310-73-2</td>\n",
       "      <td>+</td>\n",
       "      <td>7.289101</td>\n",
       "      <td>1.3569</td>\n",
       "      <td>[OH-].[Na+]</td>\n",
       "      <td>&lt;rdkit.Chem.rdchem.Mol object at 0x7fceec2116d0&gt;</td>\n",
       "      <td>39.997</td>\n",
       "      <td>39.992509</td>\n",
       "      <td>39.997</td>\n",
       "      <td>...</td>\n",
       "      <td>12.338472</td>\n",
       "      <td>1.960000</td>\n",
       "      <td>0.001667</td>\n",
       "      <td>12.091703</td>\n",
       "      <td>1</td>\n",
       "      <td>0</td>\n",
       "      <td>2.500188</td>\n",
       "      <td>1.417813</td>\n",
       "      <td>2</td>\n",
       "      <td>12.500938</td>\n",
       "    </tr>\n",
       "    <tr>\n",
       "      <th>2856</th>\n",
       "      <td>NaCl</td>\n",
       "      <td>7647-14-5</td>\n",
       "      <td>+</td>\n",
       "      <td>6.109838</td>\n",
       "      <td>1.3502</td>\n",
       "      <td>[Na+].[Cl-]</td>\n",
       "      <td>&lt;rdkit.Chem.rdchem.Mol object at 0x7fceec211740&gt;</td>\n",
       "      <td>58.443</td>\n",
       "      <td>57.958622</td>\n",
       "      <td>58.443</td>\n",
       "      <td>...</td>\n",
       "      <td>10.367820</td>\n",
       "      <td>2.290000</td>\n",
       "      <td>0.065194</td>\n",
       "      <td>11.871154</td>\n",
       "      <td>0</td>\n",
       "      <td>0</td>\n",
       "      <td>1.711069</td>\n",
       "      <td>1.416024</td>\n",
       "      <td>2</td>\n",
       "      <td>8.555345</td>\n",
       "    </tr>\n",
       "    <tr>\n",
       "      <th>2857</th>\n",
       "      <td>Urea</td>\n",
       "      <td>57-13-6</td>\n",
       "      <td>+</td>\n",
       "      <td>7.533970</td>\n",
       "      <td>1.3469</td>\n",
       "      <td>NC(N)=O</td>\n",
       "      <td>&lt;rdkit.Chem.rdchem.Mol object at 0x7fceec2117b0&gt;</td>\n",
       "      <td>60.056</td>\n",
       "      <td>60.032363</td>\n",
       "      <td>60.056</td>\n",
       "      <td>...</td>\n",
       "      <td>3.270000</td>\n",
       "      <td>0.710529</td>\n",
       "      <td>0.173734</td>\n",
       "      <td>0.580857</td>\n",
       "      <td>6</td>\n",
       "      <td>1</td>\n",
       "      <td>1.665113</td>\n",
       "      <td>1.405138</td>\n",
       "      <td>2</td>\n",
       "      <td>8.325563</td>\n",
       "    </tr>\n",
       "    <tr>\n",
       "      <th>2858</th>\n",
       "      <td>Sucrose</td>\n",
       "      <td>57-50-1</td>\n",
       "      <td>+</td>\n",
       "      <td>6.481410</td>\n",
       "      <td>1.3472</td>\n",
       "      <td>OC[C@H]1O[C@H](O[C@]2(CO)O[C@H](CO)[C@@H](O)[C...</td>\n",
       "      <td>&lt;rdkit.Chem.rdchem.Mol object at 0x7fceec211820&gt;</td>\n",
       "      <td>342.297</td>\n",
       "      <td>342.116212</td>\n",
       "      <td>342.297</td>\n",
       "      <td>...</td>\n",
       "      <td>18.892352</td>\n",
       "      <td>7.207281</td>\n",
       "      <td>3.226802</td>\n",
       "      <td>5.920109</td>\n",
       "      <td>46</td>\n",
       "      <td>0</td>\n",
       "      <td>0.292144</td>\n",
       "      <td>1.400031</td>\n",
       "      <td>2</td>\n",
       "      <td>1.460720</td>\n",
       "    </tr>\n",
       "    <tr>\n",
       "      <th>2859</th>\n",
       "      <td>HistodenzTM</td>\n",
       "      <td>66108-95-0</td>\n",
       "      <td>+</td>\n",
       "      <td>7.337815</td>\n",
       "      <td>1.3490</td>\n",
       "      <td>CC(=O)N(CC(O)CO)c1c(I)c(C(=O)NCC(O)CO)c(I)c(C(...</td>\n",
       "      <td>&lt;rdkit.Chem.rdchem.Mol object at 0x7fceec211890&gt;</td>\n",
       "      <td>821.141</td>\n",
       "      <td>820.880323</td>\n",
       "      <td>821.141</td>\n",
       "      <td>...</td>\n",
       "      <td>31.609780</td>\n",
       "      <td>14.975329</td>\n",
       "      <td>8.319287</td>\n",
       "      <td>13.922554</td>\n",
       "      <td>51</td>\n",
       "      <td>3</td>\n",
       "      <td>0.121782</td>\n",
       "      <td>1.410799</td>\n",
       "      <td>2</td>\n",
       "      <td>0.608909</td>\n",
       "    </tr>\n",
       "  </tbody>\n",
       "</table>\n",
       "<p>2860 rows × 57 columns</p>\n",
       "</div>"
      ],
      "text/plain": [
       "                                           Name     Cas No. solubility  \\\n",
       "0     Dipotassium Anthraquinone-1,8-disulfonate  14938-42-2          -   \n",
       "1                            5-Amino-1-pentanol   2508-29-4          +   \n",
       "2              (2-Amino-4-thiazolyl)acetic Acid  29676-71-9          -   \n",
       "3                             4-Amino-1-butanol  13325-10-5          +   \n",
       "4                             6-Amino-1-hexanol   4048-33-3          +   \n",
       "...                                         ...         ...        ...   \n",
       "2855                                       NaOH   1310-73-2          +   \n",
       "2856                                       NaCl   7647-14-5          +   \n",
       "2857                                       Urea     57-13-6          +   \n",
       "2858                                    Sucrose     57-50-1          +   \n",
       "2859                                HistodenzTM  66108-95-0          +   \n",
       "\n",
       "      predicted pH      RI                                             smiles  \\\n",
       "0         5.633900  1.3335  [K+].[K+].[O-][S](=O)(=O)c1cccc2C(=O)c3cccc(c3...   \n",
       "1        12.526278  1.3463                                       [NH3+]CCCCCO   \n",
       "2         5.877254  1.3490                                  Nc1scc(CC(O)=O)n1   \n",
       "3        12.263965  1.3442                                        [NH3+]CCCCO   \n",
       "4        11.939876  1.3458                                           NCCCCCCO   \n",
       "...            ...     ...                                                ...   \n",
       "2855      7.289101  1.3569                                        [OH-].[Na+]   \n",
       "2856      6.109838  1.3502                                        [Na+].[Cl-]   \n",
       "2857      7.533970  1.3469                                            NC(N)=O   \n",
       "2858      6.481410  1.3472  OC[C@H]1O[C@H](O[C@]2(CO)O[C@H](CO)[C@@H](O)[C...   \n",
       "2859      7.337815  1.3490  CC(=O)N(CC(O)CO)c1c(I)c(C(=O)NCC(O)CO)c(I)c(C(...   \n",
       "\n",
       "                                                  mols       mw     exactmw  \\\n",
       "0     <rdkit.Chem.rdchem.Mol object at 0x7fcf3a7ddd60>  444.524  443.877823   \n",
       "1     <rdkit.Chem.rdchem.Mol object at 0x7fcf3a7ddf20>  104.173  104.106990   \n",
       "2     <rdkit.Chem.rdchem.Mol object at 0x7fcf3a7dde40>  158.182  158.014998   \n",
       "3     <rdkit.Chem.rdchem.Mol object at 0x7fcf3a7ddeb0>   90.146   90.091340   \n",
       "4     <rdkit.Chem.rdchem.Mol object at 0x7fceec1c95f0>  117.192  117.115364   \n",
       "...                                                ...      ...         ...   \n",
       "2855  <rdkit.Chem.rdchem.Mol object at 0x7fceec2116d0>   39.997   39.992509   \n",
       "2856  <rdkit.Chem.rdchem.Mol object at 0x7fceec211740>   58.443   57.958622   \n",
       "2857  <rdkit.Chem.rdchem.Mol object at 0x7fceec2117b0>   60.056   60.032363   \n",
       "2858  <rdkit.Chem.rdchem.Mol object at 0x7fceec211820>  342.297  342.116212   \n",
       "2859  <rdkit.Chem.rdchem.Mol object at 0x7fceec211890>  821.141  820.880323   \n",
       "\n",
       "          amw  ...     kappa1     kappa2    kappa3        Phi  single  double  \\\n",
       "0     444.524  ...  24.909940   8.708168  4.382474   8.343075      14       6   \n",
       "1     104.173  ...   6.920000   5.920000  5.920000   5.852343      20       0   \n",
       "2     158.182  ...   7.012360   2.656020  1.696130   1.862497      10       1   \n",
       "3      90.146  ...   5.920000   4.920000  3.920000   4.854400      17       0   \n",
       "4     117.192  ...   7.920000   6.920000  5.920000   6.850800      22       0   \n",
       "...       ...  ...        ...        ...       ...        ...     ...     ...   \n",
       "2855   39.997  ...  12.338472   1.960000  0.001667  12.091703       1       0   \n",
       "2856   58.443  ...  10.367820   2.290000  0.065194  11.871154       0       0   \n",
       "2857   60.056  ...   3.270000   0.710529  0.173734   0.580857       6       1   \n",
       "2858  342.297  ...  18.892352   7.207281  3.226802   5.920109      46       0   \n",
       "2859  821.141  ...  31.609780  14.975329  8.319287  13.922554      51       3   \n",
       "\n",
       "      molar_conc_low        ri  molar_conc_high  molar_conc  \n",
       "0           0.224960  1.333500                2    0.224960  \n",
       "1           0.959942  1.346300                2    0.959942  \n",
       "2           0.632183  1.349000                2    0.632183  \n",
       "3           1.109312  1.344200                2    1.109312  \n",
       "4           0.853301  1.345800                2    0.853301  \n",
       "...              ...       ...              ...         ...  \n",
       "2855        2.500188  1.417813                2   12.500938  \n",
       "2856        1.711069  1.416024                2    8.555345  \n",
       "2857        1.665113  1.405138                2    8.325563  \n",
       "2858        0.292144  1.400031                2    1.460720  \n",
       "2859        0.121782  1.410799                2    0.608909  \n",
       "\n",
       "[2860 rows x 57 columns]"
      ]
     },
     "execution_count": 55,
     "metadata": {},
     "output_type": "execute_result"
    }
   ],
   "source": [
    "# Read in data from RI dataset\n",
    "ri_data = pd.read_csv(\"ri_dataset.csv\", index_col=0)\n",
    "ri_data"
   ]
  },
  {
   "cell_type": "code",
   "execution_count": 56,
   "metadata": {},
   "outputs": [],
   "source": [
    "# Split the RI dataset into training and testing sets\n",
    "# 70% of the data is used for training, 30% is used for testing\n",
    "\n",
    "X = ri_data.iloc[:, np.r_[7:53, 56]]    # Features - physicochemical properties\n",
    "y = ri_data[\"ri\"]   # Target - refractive index\n",
    "\n",
    "X_train, X_test, y_train, y_test = train_test_split(X, y, test_size = 0.3, random_state = 42)"
   ]
  },
  {
   "cell_type": "markdown",
   "metadata": {},
   "source": [
    "### XGBoost Regressor ###"
   ]
  },
  {
   "cell_type": "code",
   "execution_count": 57,
   "metadata": {},
   "outputs": [
    {
     "data": {
      "text/html": [
       "<style>#sk-container-id-7 {color: black;}#sk-container-id-7 pre{padding: 0;}#sk-container-id-7 div.sk-toggleable {background-color: white;}#sk-container-id-7 label.sk-toggleable__label {cursor: pointer;display: block;width: 100%;margin-bottom: 0;padding: 0.3em;box-sizing: border-box;text-align: center;}#sk-container-id-7 label.sk-toggleable__label-arrow:before {content: \"▸\";float: left;margin-right: 0.25em;color: #696969;}#sk-container-id-7 label.sk-toggleable__label-arrow:hover:before {color: black;}#sk-container-id-7 div.sk-estimator:hover label.sk-toggleable__label-arrow:before {color: black;}#sk-container-id-7 div.sk-toggleable__content {max-height: 0;max-width: 0;overflow: hidden;text-align: left;background-color: #f0f8ff;}#sk-container-id-7 div.sk-toggleable__content pre {margin: 0.2em;color: black;border-radius: 0.25em;background-color: #f0f8ff;}#sk-container-id-7 input.sk-toggleable__control:checked~div.sk-toggleable__content {max-height: 200px;max-width: 100%;overflow: auto;}#sk-container-id-7 input.sk-toggleable__control:checked~label.sk-toggleable__label-arrow:before {content: \"▾\";}#sk-container-id-7 div.sk-estimator input.sk-toggleable__control:checked~label.sk-toggleable__label {background-color: #d4ebff;}#sk-container-id-7 div.sk-label input.sk-toggleable__control:checked~label.sk-toggleable__label {background-color: #d4ebff;}#sk-container-id-7 input.sk-hidden--visually {border: 0;clip: rect(1px 1px 1px 1px);clip: rect(1px, 1px, 1px, 1px);height: 1px;margin: -1px;overflow: hidden;padding: 0;position: absolute;width: 1px;}#sk-container-id-7 div.sk-estimator {font-family: monospace;background-color: #f0f8ff;border: 1px dotted black;border-radius: 0.25em;box-sizing: border-box;margin-bottom: 0.5em;}#sk-container-id-7 div.sk-estimator:hover {background-color: #d4ebff;}#sk-container-id-7 div.sk-parallel-item::after {content: \"\";width: 100%;border-bottom: 1px solid gray;flex-grow: 1;}#sk-container-id-7 div.sk-label:hover label.sk-toggleable__label {background-color: #d4ebff;}#sk-container-id-7 div.sk-serial::before {content: \"\";position: absolute;border-left: 1px solid gray;box-sizing: border-box;top: 0;bottom: 0;left: 50%;z-index: 0;}#sk-container-id-7 div.sk-serial {display: flex;flex-direction: column;align-items: center;background-color: white;padding-right: 0.2em;padding-left: 0.2em;position: relative;}#sk-container-id-7 div.sk-item {position: relative;z-index: 1;}#sk-container-id-7 div.sk-parallel {display: flex;align-items: stretch;justify-content: center;background-color: white;position: relative;}#sk-container-id-7 div.sk-item::before, #sk-container-id-7 div.sk-parallel-item::before {content: \"\";position: absolute;border-left: 1px solid gray;box-sizing: border-box;top: 0;bottom: 0;left: 50%;z-index: -1;}#sk-container-id-7 div.sk-parallel-item {display: flex;flex-direction: column;z-index: 1;position: relative;background-color: white;}#sk-container-id-7 div.sk-parallel-item:first-child::after {align-self: flex-end;width: 50%;}#sk-container-id-7 div.sk-parallel-item:last-child::after {align-self: flex-start;width: 50%;}#sk-container-id-7 div.sk-parallel-item:only-child::after {width: 0;}#sk-container-id-7 div.sk-dashed-wrapped {border: 1px dashed gray;margin: 0 0.4em 0.5em 0.4em;box-sizing: border-box;padding-bottom: 0.4em;background-color: white;}#sk-container-id-7 div.sk-label label {font-family: monospace;font-weight: bold;display: inline-block;line-height: 1.2em;}#sk-container-id-7 div.sk-label-container {text-align: center;}#sk-container-id-7 div.sk-container {/* jupyter's `normalize.less` sets `[hidden] { display: none; }` but bootstrap.min.css set `[hidden] { display: none !important; }` so we also need the `!important` here to be able to override the default hidden behavior on the sphinx rendered scikit-learn.org. See: https://github.com/scikit-learn/scikit-learn/issues/21755 */display: inline-block !important;position: relative;}#sk-container-id-7 div.sk-text-repr-fallback {display: none;}</style><div id=\"sk-container-id-7\" class=\"sk-top-container\"><div class=\"sk-text-repr-fallback\"><pre>XGBRegressor(base_score=None, booster=None, callbacks=None,\n",
       "             colsample_bylevel=None, colsample_bynode=None,\n",
       "             colsample_bytree=None, device=None, early_stopping_rounds=None,\n",
       "             enable_categorical=False, eval_metric=None, feature_types=None,\n",
       "             feature_weights=None, gamma=None, grow_policy=None,\n",
       "             importance_type=None, interaction_constraints=None,\n",
       "             learning_rate=None, max_bin=None, max_cat_threshold=None,\n",
       "             max_cat_to_onehot=None, max_delta_step=None, max_depth=None,\n",
       "             max_leaves=None, min_child_weight=None, missing=nan,\n",
       "             monotone_constraints=None, multi_strategy=None, n_estimators=None,\n",
       "             n_jobs=None, num_parallel_tree=None, ...)</pre><b>In a Jupyter environment, please rerun this cell to show the HTML representation or trust the notebook. <br />On GitHub, the HTML representation is unable to render, please try loading this page with nbviewer.org.</b></div><div class=\"sk-container\" hidden><div class=\"sk-item\"><div class=\"sk-estimator sk-toggleable\"><input class=\"sk-toggleable__control sk-hidden--visually\" id=\"sk-estimator-id-17\" type=\"checkbox\" checked><label for=\"sk-estimator-id-17\" class=\"sk-toggleable__label sk-toggleable__label-arrow\">XGBRegressor</label><div class=\"sk-toggleable__content\"><pre>XGBRegressor(base_score=None, booster=None, callbacks=None,\n",
       "             colsample_bylevel=None, colsample_bynode=None,\n",
       "             colsample_bytree=None, device=None, early_stopping_rounds=None,\n",
       "             enable_categorical=False, eval_metric=None, feature_types=None,\n",
       "             feature_weights=None, gamma=None, grow_policy=None,\n",
       "             importance_type=None, interaction_constraints=None,\n",
       "             learning_rate=None, max_bin=None, max_cat_threshold=None,\n",
       "             max_cat_to_onehot=None, max_delta_step=None, max_depth=None,\n",
       "             max_leaves=None, min_child_weight=None, missing=nan,\n",
       "             monotone_constraints=None, multi_strategy=None, n_estimators=None,\n",
       "             n_jobs=None, num_parallel_tree=None, ...)</pre></div></div></div></div></div>"
      ],
      "text/plain": [
       "XGBRegressor(base_score=None, booster=None, callbacks=None,\n",
       "             colsample_bylevel=None, colsample_bynode=None,\n",
       "             colsample_bytree=None, device=None, early_stopping_rounds=None,\n",
       "             enable_categorical=False, eval_metric=None, feature_types=None,\n",
       "             feature_weights=None, gamma=None, grow_policy=None,\n",
       "             importance_type=None, interaction_constraints=None,\n",
       "             learning_rate=None, max_bin=None, max_cat_threshold=None,\n",
       "             max_cat_to_onehot=None, max_delta_step=None, max_depth=None,\n",
       "             max_leaves=None, min_child_weight=None, missing=nan,\n",
       "             monotone_constraints=None, multi_strategy=None, n_estimators=None,\n",
       "             n_jobs=None, num_parallel_tree=None, ...)"
      ]
     },
     "execution_count": 57,
     "metadata": {},
     "output_type": "execute_result"
    }
   ],
   "source": [
    "# Initialize XGBoost regressor model for refractive index prediction\n",
    "xgb_model = xgb.XGBRegressor()\n",
    "\n",
    "# Fit the XGBoost model on the training data\n",
    "xgb_model.fit(X_train, y_train)"
   ]
  },
  {
   "cell_type": "code",
   "execution_count": 58,
   "metadata": {},
   "outputs": [
    {
     "data": {
      "image/png": "[encoded data removed]",
      "text/plain": [
       "<Figure size 800x950 with 2 Axes>"
      ]
     },
     "metadata": {},
     "output_type": "display_data"
    }
   ],
   "source": [
    "# Using SHAP values to select the most important features for the XGBoost model\n",
    "explainer = shap.Explainer(xgb_model)\n",
    "shap_values = explainer.shap_values(X_test)\n",
    "\n",
    "# Show summary plot with shap values of each feature in the dataset\n",
    "shap.summary_plot(shap_values, X_test)"
   ]
  },
  {
   "cell_type": "code",
   "execution_count": 59,
   "metadata": {},
   "outputs": [],
   "source": [
    "# Filter out selected SHAP features (features having the strongest impacts on prediction)\n",
    " \n",
    "X_selected = ri_data[[\"molar_conc\", \"NumAromaticRings\", \"CrippenClogP\", \"FractionCSP3\", \"mw\", \"NumRings\", \"CrippenMR\", \n",
    "                      \"hallKierAlpha\", \"NumHeteroatoms\", \"chi1v\", \"single\", \"labuteASA\", \"tpsa\", \"NumHBD\", \"chi2v\", \n",
    "                      \"chi4v\", \"kappa3\", \"Phi\", \"kappa2\", \"chi0n\"]]"
   ]
  },
  {
   "cell_type": "code",
   "execution_count": 60,
   "metadata": {},
   "outputs": [],
   "source": [
    "# Perform train test split again with only selected features\n",
    "X_train, X_test, y_train, y_test = train_test_split(X_selected, y, test_size = 0.3, random_state = 42)"
   ]
  },
  {
   "cell_type": "markdown",
   "metadata": {},
   "source": [
    "Hyperparameter tuning"
   ]
  },
  {
   "cell_type": "code",
   "execution_count": 122,
   "metadata": {},
   "outputs": [
    {
     "data": {
      "text/html": [
       "<style>#sk-container-id-8 {color: black;}#sk-container-id-8 pre{padding: 0;}#sk-container-id-8 div.sk-toggleable {background-color: white;}#sk-container-id-8 label.sk-toggleable__label {cursor: pointer;display: block;width: 100%;margin-bottom: 0;padding: 0.3em;box-sizing: border-box;text-align: center;}#sk-container-id-8 label.sk-toggleable__label-arrow:before {content: \"▸\";float: left;margin-right: 0.25em;color: #696969;}#sk-container-id-8 label.sk-toggleable__label-arrow:hover:before {color: black;}#sk-container-id-8 div.sk-estimator:hover label.sk-toggleable__label-arrow:before {color: black;}#sk-container-id-8 div.sk-toggleable__content {max-height: 0;max-width: 0;overflow: hidden;text-align: left;background-color: #f0f8ff;}#sk-container-id-8 div.sk-toggleable__content pre {margin: 0.2em;color: black;border-radius: 0.25em;background-color: #f0f8ff;}#sk-container-id-8 input.sk-toggleable__control:checked~div.sk-toggleable__content {max-height: 200px;max-width: 100%;overflow: auto;}#sk-container-id-8 input.sk-toggleable__control:checked~label.sk-toggleable__label-arrow:before {content: \"▾\";}#sk-container-id-8 div.sk-estimator input.sk-toggleable__control:checked~label.sk-toggleable__label {background-color: #d4ebff;}#sk-container-id-8 div.sk-label input.sk-toggleable__control:checked~label.sk-toggleable__label {background-color: #d4ebff;}#sk-container-id-8 input.sk-hidden--visually {border: 0;clip: rect(1px 1px 1px 1px);clip: rect(1px, 1px, 1px, 1px);height: 1px;margin: -1px;overflow: hidden;padding: 0;position: absolute;width: 1px;}#sk-container-id-8 div.sk-estimator {font-family: monospace;background-color: #f0f8ff;border: 1px dotted black;border-radius: 0.25em;box-sizing: border-box;margin-bottom: 0.5em;}#sk-container-id-8 div.sk-estimator:hover {background-color: #d4ebff;}#sk-container-id-8 div.sk-parallel-item::after {content: \"\";width: 100%;border-bottom: 1px solid gray;flex-grow: 1;}#sk-container-id-8 div.sk-label:hover label.sk-toggleable__label {background-color: #d4ebff;}#sk-container-id-8 div.sk-serial::before {content: \"\";position: absolute;border-left: 1px solid gray;box-sizing: border-box;top: 0;bottom: 0;left: 50%;z-index: 0;}#sk-container-id-8 div.sk-serial {display: flex;flex-direction: column;align-items: center;background-color: white;padding-right: 0.2em;padding-left: 0.2em;position: relative;}#sk-container-id-8 div.sk-item {position: relative;z-index: 1;}#sk-container-id-8 div.sk-parallel {display: flex;align-items: stretch;justify-content: center;background-color: white;position: relative;}#sk-container-id-8 div.sk-item::before, #sk-container-id-8 div.sk-parallel-item::before {content: \"\";position: absolute;border-left: 1px solid gray;box-sizing: border-box;top: 0;bottom: 0;left: 50%;z-index: -1;}#sk-container-id-8 div.sk-parallel-item {display: flex;flex-direction: column;z-index: 1;position: relative;background-color: white;}#sk-container-id-8 div.sk-parallel-item:first-child::after {align-self: flex-end;width: 50%;}#sk-container-id-8 div.sk-parallel-item:last-child::after {align-self: flex-start;width: 50%;}#sk-container-id-8 div.sk-parallel-item:only-child::after {width: 0;}#sk-container-id-8 div.sk-dashed-wrapped {border: 1px dashed gray;margin: 0 0.4em 0.5em 0.4em;box-sizing: border-box;padding-bottom: 0.4em;background-color: white;}#sk-container-id-8 div.sk-label label {font-family: monospace;font-weight: bold;display: inline-block;line-height: 1.2em;}#sk-container-id-8 div.sk-label-container {text-align: center;}#sk-container-id-8 div.sk-container {/* jupyter's `normalize.less` sets `[hidden] { display: none; }` but bootstrap.min.css set `[hidden] { display: none !important; }` so we also need the `!important` here to be able to override the default hidden behavior on the sphinx rendered scikit-learn.org. See: https://github.com/scikit-learn/scikit-learn/issues/21755 */display: inline-block !important;position: relative;}#sk-container-id-8 div.sk-text-repr-fallback {display: none;}</style><div id=\"sk-container-id-8\" class=\"sk-top-container\"><div class=\"sk-text-repr-fallback\"><pre>GridSearchCV(cv=3,\n",
       "             estimator=XGBRegressor(base_score=None, booster=None,\n",
       "                                    callbacks=None, colsample_bylevel=None,\n",
       "                                    colsample_bynode=None,\n",
       "                                    colsample_bytree=None, device=None,\n",
       "                                    early_stopping_rounds=None,\n",
       "                                    enable_categorical=False, eval_metric=None,\n",
       "                                    feature_types=None, feature_weights=None,\n",
       "                                    gamma=None, grow_policy=None,\n",
       "                                    importance_type=None,\n",
       "                                    interaction_constraints=None...\n",
       "                                    max_cat_to_onehot=None, max_delta_step=None,\n",
       "                                    max_depth=None, max_leaves=None,\n",
       "                                    min_child_weight=None, missing=nan,\n",
       "                                    monotone_constraints=None,\n",
       "                                    multi_strategy=None, n_estimators=None,\n",
       "                                    n_jobs=None, num_parallel_tree=None, ...),\n",
       "             param_grid={&#x27;learning_rate&#x27;: array([0.01, 0.02, 0.03, 0.04, 0.05, 0.06, 0.07, 0.08, 0.09]),\n",
       "                         &#x27;n_estimators&#x27;: range(100, 1000, 100)},\n",
       "             scoring=&#x27;neg_mean_squared_error&#x27;)</pre><b>In a Jupyter environment, please rerun this cell to show the HTML representation or trust the notebook. <br />On GitHub, the HTML representation is unable to render, please try loading this page with nbviewer.org.</b></div><div class=\"sk-container\" hidden><div class=\"sk-item sk-dashed-wrapped\"><div class=\"sk-label-container\"><div class=\"sk-label sk-toggleable\"><input class=\"sk-toggleable__control sk-hidden--visually\" id=\"sk-estimator-id-18\" type=\"checkbox\" ><label for=\"sk-estimator-id-18\" class=\"sk-toggleable__label sk-toggleable__label-arrow\">GridSearchCV</label><div class=\"sk-toggleable__content\"><pre>GridSearchCV(cv=3,\n",
       "             estimator=XGBRegressor(base_score=None, booster=None,\n",
       "                                    callbacks=None, colsample_bylevel=None,\n",
       "                                    colsample_bynode=None,\n",
       "                                    colsample_bytree=None, device=None,\n",
       "                                    early_stopping_rounds=None,\n",
       "                                    enable_categorical=False, eval_metric=None,\n",
       "                                    feature_types=None, feature_weights=None,\n",
       "                                    gamma=None, grow_policy=None,\n",
       "                                    importance_type=None,\n",
       "                                    interaction_constraints=None...\n",
       "                                    max_cat_to_onehot=None, max_delta_step=None,\n",
       "                                    max_depth=None, max_leaves=None,\n",
       "                                    min_child_weight=None, missing=nan,\n",
       "                                    monotone_constraints=None,\n",
       "                                    multi_strategy=None, n_estimators=None,\n",
       "                                    n_jobs=None, num_parallel_tree=None, ...),\n",
       "             param_grid={&#x27;learning_rate&#x27;: array([0.01, 0.02, 0.03, 0.04, 0.05, 0.06, 0.07, 0.08, 0.09]),\n",
       "                         &#x27;n_estimators&#x27;: range(100, 1000, 100)},\n",
       "             scoring=&#x27;neg_mean_squared_error&#x27;)</pre></div></div></div><div class=\"sk-parallel\"><div class=\"sk-parallel-item\"><div class=\"sk-item\"><div class=\"sk-label-container\"><div class=\"sk-label sk-toggleable\"><input class=\"sk-toggleable__control sk-hidden--visually\" id=\"sk-estimator-id-19\" type=\"checkbox\" ><label for=\"sk-estimator-id-19\" class=\"sk-toggleable__label sk-toggleable__label-arrow\">estimator: XGBRegressor</label><div class=\"sk-toggleable__content\"><pre>XGBRegressor(base_score=None, booster=None, callbacks=None,\n",
       "             colsample_bylevel=None, colsample_bynode=None,\n",
       "             colsample_bytree=None, device=None, early_stopping_rounds=None,\n",
       "             enable_categorical=False, eval_metric=None, feature_types=None,\n",
       "             feature_weights=None, gamma=None, grow_policy=None,\n",
       "             importance_type=None, interaction_constraints=None,\n",
       "             learning_rate=None, max_bin=None, max_cat_threshold=None,\n",
       "             max_cat_to_onehot=None, max_delta_step=None, max_depth=None,\n",
       "             max_leaves=None, min_child_weight=None, missing=nan,\n",
       "             monotone_constraints=None, multi_strategy=None, n_estimators=None,\n",
       "             n_jobs=None, num_parallel_tree=None, ...)</pre></div></div></div><div class=\"sk-serial\"><div class=\"sk-item\"><div class=\"sk-estimator sk-toggleable\"><input class=\"sk-toggleable__control sk-hidden--visually\" id=\"sk-estimator-id-20\" type=\"checkbox\" ><label for=\"sk-estimator-id-20\" class=\"sk-toggleable__label sk-toggleable__label-arrow\">XGBRegressor</label><div class=\"sk-toggleable__content\"><pre>XGBRegressor(base_score=None, booster=None, callbacks=None,\n",
       "             colsample_bylevel=None, colsample_bynode=None,\n",
       "             colsample_bytree=None, device=None, early_stopping_rounds=None,\n",
       "             enable_categorical=False, eval_metric=None, feature_types=None,\n",
       "             feature_weights=None, gamma=None, grow_policy=None,\n",
       "             importance_type=None, interaction_constraints=None,\n",
       "             learning_rate=None, max_bin=None, max_cat_threshold=None,\n",
       "             max_cat_to_onehot=None, max_delta_step=None, max_depth=None,\n",
       "             max_leaves=None, min_child_weight=None, missing=nan,\n",
       "             monotone_constraints=None, multi_strategy=None, n_estimators=None,\n",
       "             n_jobs=None, num_parallel_tree=None, ...)</pre></div></div></div></div></div></div></div></div></div></div>"
      ],
      "text/plain": [
       "GridSearchCV(cv=3,\n",
       "             estimator=XGBRegressor(base_score=None, booster=None,\n",
       "                                    callbacks=None, colsample_bylevel=None,\n",
       "                                    colsample_bynode=None,\n",
       "                                    colsample_bytree=None, device=None,\n",
       "                                    early_stopping_rounds=None,\n",
       "                                    enable_categorical=False, eval_metric=None,\n",
       "                                    feature_types=None, feature_weights=None,\n",
       "                                    gamma=None, grow_policy=None,\n",
       "                                    importance_type=None,\n",
       "                                    interaction_constraints=None...\n",
       "                                    max_cat_to_onehot=None, max_delta_step=None,\n",
       "                                    max_depth=None, max_leaves=None,\n",
       "                                    min_child_weight=None, missing=nan,\n",
       "                                    monotone_constraints=None,\n",
       "                                    multi_strategy=None, n_estimators=None,\n",
       "                                    n_jobs=None, num_parallel_tree=None, ...),\n",
       "             param_grid={'learning_rate': array([0.01, 0.02, 0.03, 0.04, 0.05, 0.06, 0.07, 0.08, 0.09]),\n",
       "                         'n_estimators': range(100, 1000, 100)},\n",
       "             scoring='neg_mean_squared_error')"
      ]
     },
     "execution_count": 122,
     "metadata": {},
     "output_type": "execute_result"
    }
   ],
   "source": [
    "from sklearn.model_selection import GridSearchCV\n",
    "# Hyperparameter tuning - learning rate and n estimators\n",
    "\n",
    "# Define params grid\n",
    "param_grid = {\n",
    "    \"learning_rate\": np.arange(0.01, 0.1, 0.01),\n",
    "    \"n_estimators\": range(100, 1000, 100),\n",
    "}\n",
    "\n",
    "# Initialize model\n",
    "model = xgb.XGBRegressor()\n",
    "\n",
    "# Grid search to find the best parameters\n",
    "grid_search = GridSearchCV(model, \n",
    "                           param_grid = param_grid, \n",
    "                           cv = 3, \n",
    "                           scoring = \"neg_mean_squared_error\")\n",
    "grid_search.fit(X_train, y_train)"
   ]
  },
  {
   "cell_type": "code",
   "execution_count": null,
   "metadata": {},
   "outputs": [
    {
     "data": {
      "text/plain": [
       "{'learning_rate': 0.08, 'n_estimators': 300}"
      ]
     },
     "execution_count": 37,
     "metadata": {},
     "output_type": "execute_result"
    }
   ],
   "source": [
    "# Get best params and use in next round of tuning\n",
    "grid_search.best_params_"
   ]
  },
  {
   "cell_type": "code",
   "execution_count": null,
   "metadata": {},
   "outputs": [
    {
     "data": {
      "text/html": [
       "<style>#sk-container-id-4 {color: black;}#sk-container-id-4 pre{padding: 0;}#sk-container-id-4 div.sk-toggleable {background-color: white;}#sk-container-id-4 label.sk-toggleable__label {cursor: pointer;display: block;width: 100%;margin-bottom: 0;padding: 0.3em;box-sizing: border-box;text-align: center;}#sk-container-id-4 label.sk-toggleable__label-arrow:before {content: \"▸\";float: left;margin-right: 0.25em;color: #696969;}#sk-container-id-4 label.sk-toggleable__label-arrow:hover:before {color: black;}#sk-container-id-4 div.sk-estimator:hover label.sk-toggleable__label-arrow:before {color: black;}#sk-container-id-4 div.sk-toggleable__content {max-height: 0;max-width: 0;overflow: hidden;text-align: left;background-color: #f0f8ff;}#sk-container-id-4 div.sk-toggleable__content pre {margin: 0.2em;color: black;border-radius: 0.25em;background-color: #f0f8ff;}#sk-container-id-4 input.sk-toggleable__control:checked~div.sk-toggleable__content {max-height: 200px;max-width: 100%;overflow: auto;}#sk-container-id-4 input.sk-toggleable__control:checked~label.sk-toggleable__label-arrow:before {content: \"▾\";}#sk-container-id-4 div.sk-estimator input.sk-toggleable__control:checked~label.sk-toggleable__label {background-color: #d4ebff;}#sk-container-id-4 div.sk-label input.sk-toggleable__control:checked~label.sk-toggleable__label {background-color: #d4ebff;}#sk-container-id-4 input.sk-hidden--visually {border: 0;clip: rect(1px 1px 1px 1px);clip: rect(1px, 1px, 1px, 1px);height: 1px;margin: -1px;overflow: hidden;padding: 0;position: absolute;width: 1px;}#sk-container-id-4 div.sk-estimator {font-family: monospace;background-color: #f0f8ff;border: 1px dotted black;border-radius: 0.25em;box-sizing: border-box;margin-bottom: 0.5em;}#sk-container-id-4 div.sk-estimator:hover {background-color: #d4ebff;}#sk-container-id-4 div.sk-parallel-item::after {content: \"\";width: 100%;border-bottom: 1px solid gray;flex-grow: 1;}#sk-container-id-4 div.sk-label:hover label.sk-toggleable__label {background-color: #d4ebff;}#sk-container-id-4 div.sk-serial::before {content: \"\";position: absolute;border-left: 1px solid gray;box-sizing: border-box;top: 0;bottom: 0;left: 50%;z-index: 0;}#sk-container-id-4 div.sk-serial {display: flex;flex-direction: column;align-items: center;background-color: white;padding-right: 0.2em;padding-left: 0.2em;position: relative;}#sk-container-id-4 div.sk-item {position: relative;z-index: 1;}#sk-container-id-4 div.sk-parallel {display: flex;align-items: stretch;justify-content: center;background-color: white;position: relative;}#sk-container-id-4 div.sk-item::before, #sk-container-id-4 div.sk-parallel-item::before {content: \"\";position: absolute;border-left: 1px solid gray;box-sizing: border-box;top: 0;bottom: 0;left: 50%;z-index: -1;}#sk-container-id-4 div.sk-parallel-item {display: flex;flex-direction: column;z-index: 1;position: relative;background-color: white;}#sk-container-id-4 div.sk-parallel-item:first-child::after {align-self: flex-end;width: 50%;}#sk-container-id-4 div.sk-parallel-item:last-child::after {align-self: flex-start;width: 50%;}#sk-container-id-4 div.sk-parallel-item:only-child::after {width: 0;}#sk-container-id-4 div.sk-dashed-wrapped {border: 1px dashed gray;margin: 0 0.4em 0.5em 0.4em;box-sizing: border-box;padding-bottom: 0.4em;background-color: white;}#sk-container-id-4 div.sk-label label {font-family: monospace;font-weight: bold;display: inline-block;line-height: 1.2em;}#sk-container-id-4 div.sk-label-container {text-align: center;}#sk-container-id-4 div.sk-container {/* jupyter's `normalize.less` sets `[hidden] { display: none; }` but bootstrap.min.css set `[hidden] { display: none !important; }` so we also need the `!important` here to be able to override the default hidden behavior on the sphinx rendered scikit-learn.org. See: https://github.com/scikit-learn/scikit-learn/issues/21755 */display: inline-block !important;position: relative;}#sk-container-id-4 div.sk-text-repr-fallback {display: none;}</style><div id=\"sk-container-id-4\" class=\"sk-top-container\"><div class=\"sk-text-repr-fallback\"><pre>GridSearchCV(cv=3,\n",
       "             estimator=XGBRegressor(base_score=None, booster=None,\n",
       "                                    callbacks=None, colsample_bylevel=None,\n",
       "                                    colsample_bynode=None,\n",
       "                                    colsample_bytree=None, device=None,\n",
       "                                    early_stopping_rounds=None,\n",
       "                                    enable_categorical=False, eval_metric=None,\n",
       "                                    feature_types=None, feature_weights=None,\n",
       "                                    gamma=None, grow_policy=None,\n",
       "                                    importance_type=None,\n",
       "                                    interaction_constraints=None,\n",
       "                                    learning_rate=0.08, max_bin=None,\n",
       "                                    max_cat_threshold=None,\n",
       "                                    max_cat_to_onehot=None, max_delta_step=None,\n",
       "                                    max_depth=None, max_leaves=None,\n",
       "                                    min_child_weight=None, missing=nan,\n",
       "                                    monotone_constraints=None,\n",
       "                                    multi_strategy=None, n_estimators=300,\n",
       "                                    n_jobs=None, num_parallel_tree=None, ...),\n",
       "             param_grid={&#x27;max_depth&#x27;: range(1, 11),\n",
       "                         &#x27;min_child_weight&#x27;: range(1, 11)},\n",
       "             scoring=&#x27;neg_mean_squared_error&#x27;)</pre><b>In a Jupyter environment, please rerun this cell to show the HTML representation or trust the notebook. <br />On GitHub, the HTML representation is unable to render, please try loading this page with nbviewer.org.</b></div><div class=\"sk-container\" hidden><div class=\"sk-item sk-dashed-wrapped\"><div class=\"sk-label-container\"><div class=\"sk-label sk-toggleable\"><input class=\"sk-toggleable__control sk-hidden--visually\" id=\"sk-estimator-id-8\" type=\"checkbox\" ><label for=\"sk-estimator-id-8\" class=\"sk-toggleable__label sk-toggleable__label-arrow\">GridSearchCV</label><div class=\"sk-toggleable__content\"><pre>GridSearchCV(cv=3,\n",
       "             estimator=XGBRegressor(base_score=None, booster=None,\n",
       "                                    callbacks=None, colsample_bylevel=None,\n",
       "                                    colsample_bynode=None,\n",
       "                                    colsample_bytree=None, device=None,\n",
       "                                    early_stopping_rounds=None,\n",
       "                                    enable_categorical=False, eval_metric=None,\n",
       "                                    feature_types=None, feature_weights=None,\n",
       "                                    gamma=None, grow_policy=None,\n",
       "                                    importance_type=None,\n",
       "                                    interaction_constraints=None,\n",
       "                                    learning_rate=0.08, max_bin=None,\n",
       "                                    max_cat_threshold=None,\n",
       "                                    max_cat_to_onehot=None, max_delta_step=None,\n",
       "                                    max_depth=None, max_leaves=None,\n",
       "                                    min_child_weight=None, missing=nan,\n",
       "                                    monotone_constraints=None,\n",
       "                                    multi_strategy=None, n_estimators=300,\n",
       "                                    n_jobs=None, num_parallel_tree=None, ...),\n",
       "             param_grid={&#x27;max_depth&#x27;: range(1, 11),\n",
       "                         &#x27;min_child_weight&#x27;: range(1, 11)},\n",
       "             scoring=&#x27;neg_mean_squared_error&#x27;)</pre></div></div></div><div class=\"sk-parallel\"><div class=\"sk-parallel-item\"><div class=\"sk-item\"><div class=\"sk-label-container\"><div class=\"sk-label sk-toggleable\"><input class=\"sk-toggleable__control sk-hidden--visually\" id=\"sk-estimator-id-9\" type=\"checkbox\" ><label for=\"sk-estimator-id-9\" class=\"sk-toggleable__label sk-toggleable__label-arrow\">estimator: XGBRegressor</label><div class=\"sk-toggleable__content\"><pre>XGBRegressor(base_score=None, booster=None, callbacks=None,\n",
       "             colsample_bylevel=None, colsample_bynode=None,\n",
       "             colsample_bytree=None, device=None, early_stopping_rounds=None,\n",
       "             enable_categorical=False, eval_metric=None, feature_types=None,\n",
       "             feature_weights=None, gamma=None, grow_policy=None,\n",
       "             importance_type=None, interaction_constraints=None,\n",
       "             learning_rate=0.08, max_bin=None, max_cat_threshold=None,\n",
       "             max_cat_to_onehot=None, max_delta_step=None, max_depth=None,\n",
       "             max_leaves=None, min_child_weight=None, missing=nan,\n",
       "             monotone_constraints=None, multi_strategy=None, n_estimators=300,\n",
       "             n_jobs=None, num_parallel_tree=None, ...)</pre></div></div></div><div class=\"sk-serial\"><div class=\"sk-item\"><div class=\"sk-estimator sk-toggleable\"><input class=\"sk-toggleable__control sk-hidden--visually\" id=\"sk-estimator-id-10\" type=\"checkbox\" ><label for=\"sk-estimator-id-10\" class=\"sk-toggleable__label sk-toggleable__label-arrow\">XGBRegressor</label><div class=\"sk-toggleable__content\"><pre>XGBRegressor(base_score=None, booster=None, callbacks=None,\n",
       "             colsample_bylevel=None, colsample_bynode=None,\n",
       "             colsample_bytree=None, device=None, early_stopping_rounds=None,\n",
       "             enable_categorical=False, eval_metric=None, feature_types=None,\n",
       "             feature_weights=None, gamma=None, grow_policy=None,\n",
       "             importance_type=None, interaction_constraints=None,\n",
       "             learning_rate=0.08, max_bin=None, max_cat_threshold=None,\n",
       "             max_cat_to_onehot=None, max_delta_step=None, max_depth=None,\n",
       "             max_leaves=None, min_child_weight=None, missing=nan,\n",
       "             monotone_constraints=None, multi_strategy=None, n_estimators=300,\n",
       "             n_jobs=None, num_parallel_tree=None, ...)</pre></div></div></div></div></div></div></div></div></div></div>"
      ],
      "text/plain": [
       "GridSearchCV(cv=3,\n",
       "             estimator=XGBRegressor(base_score=None, booster=None,\n",
       "                                    callbacks=None, colsample_bylevel=None,\n",
       "                                    colsample_bynode=None,\n",
       "                                    colsample_bytree=None, device=None,\n",
       "                                    early_stopping_rounds=None,\n",
       "                                    enable_categorical=False, eval_metric=None,\n",
       "                                    feature_types=None, feature_weights=None,\n",
       "                                    gamma=None, grow_policy=None,\n",
       "                                    importance_type=None,\n",
       "                                    interaction_constraints=None,\n",
       "                                    learning_rate=0.08, max_bin=None,\n",
       "                                    max_cat_threshold=None,\n",
       "                                    max_cat_to_onehot=None, max_delta_step=None,\n",
       "                                    max_depth=None, max_leaves=None,\n",
       "                                    min_child_weight=None, missing=nan,\n",
       "                                    monotone_constraints=None,\n",
       "                                    multi_strategy=None, n_estimators=300,\n",
       "                                    n_jobs=None, num_parallel_tree=None, ...),\n",
       "             param_grid={'max_depth': range(1, 11),\n",
       "                         'min_child_weight': range(1, 11)},\n",
       "             scoring='neg_mean_squared_error')"
      ]
     },
     "execution_count": 38,
     "metadata": {},
     "output_type": "execute_result"
    }
   ],
   "source": [
    "# Hyperparameter tuning - max depth and min child weight\n",
    "\n",
    "# Define params grid\n",
    "param_grid = {\n",
    "    \"max_depth\": range(1, 11),\n",
    "    \"min_child_weight\": range(1, 11)\n",
    "}\n",
    "\n",
    "# Create model\n",
    "model = xgb.XGBRegressor(learning_rate = 0.08, \n",
    "                         n_estimators = 300)\n",
    "\n",
    "# Grid search\n",
    "grid_search = GridSearchCV(model, \n",
    "                           param_grid = param_grid, \n",
    "                           cv = 3, \n",
    "                           scoring = \"neg_mean_squared_error\")\n",
    "grid_search.fit(X_train, y_train)"
   ]
  },
  {
   "cell_type": "code",
   "execution_count": null,
   "metadata": {},
   "outputs": [
    {
     "data": {
      "text/plain": [
       "{'max_depth': 4, 'min_child_weight': 5}"
      ]
     },
     "execution_count": 39,
     "metadata": {},
     "output_type": "execute_result"
    }
   ],
   "source": [
    "# Get best params and use in next round of tuning\n",
    "grid_search.best_params_"
   ]
  },
  {
   "cell_type": "code",
   "execution_count": null,
   "metadata": {},
   "outputs": [
    {
     "data": {
      "text/html": [
       "<style>#sk-container-id-5 {color: black;}#sk-container-id-5 pre{padding: 0;}#sk-container-id-5 div.sk-toggleable {background-color: white;}#sk-container-id-5 label.sk-toggleable__label {cursor: pointer;display: block;width: 100%;margin-bottom: 0;padding: 0.3em;box-sizing: border-box;text-align: center;}#sk-container-id-5 label.sk-toggleable__label-arrow:before {content: \"▸\";float: left;margin-right: 0.25em;color: #696969;}#sk-container-id-5 label.sk-toggleable__label-arrow:hover:before {color: black;}#sk-container-id-5 div.sk-estimator:hover label.sk-toggleable__label-arrow:before {color: black;}#sk-container-id-5 div.sk-toggleable__content {max-height: 0;max-width: 0;overflow: hidden;text-align: left;background-color: #f0f8ff;}#sk-container-id-5 div.sk-toggleable__content pre {margin: 0.2em;color: black;border-radius: 0.25em;background-color: #f0f8ff;}#sk-container-id-5 input.sk-toggleable__control:checked~div.sk-toggleable__content {max-height: 200px;max-width: 100%;overflow: auto;}#sk-container-id-5 input.sk-toggleable__control:checked~label.sk-toggleable__label-arrow:before {content: \"▾\";}#sk-container-id-5 div.sk-estimator input.sk-toggleable__control:checked~label.sk-toggleable__label {background-color: #d4ebff;}#sk-container-id-5 div.sk-label input.sk-toggleable__control:checked~label.sk-toggleable__label {background-color: #d4ebff;}#sk-container-id-5 input.sk-hidden--visually {border: 0;clip: rect(1px 1px 1px 1px);clip: rect(1px, 1px, 1px, 1px);height: 1px;margin: -1px;overflow: hidden;padding: 0;position: absolute;width: 1px;}#sk-container-id-5 div.sk-estimator {font-family: monospace;background-color: #f0f8ff;border: 1px dotted black;border-radius: 0.25em;box-sizing: border-box;margin-bottom: 0.5em;}#sk-container-id-5 div.sk-estimator:hover {background-color: #d4ebff;}#sk-container-id-5 div.sk-parallel-item::after {content: \"\";width: 100%;border-bottom: 1px solid gray;flex-grow: 1;}#sk-container-id-5 div.sk-label:hover label.sk-toggleable__label {background-color: #d4ebff;}#sk-container-id-5 div.sk-serial::before {content: \"\";position: absolute;border-left: 1px solid gray;box-sizing: border-box;top: 0;bottom: 0;left: 50%;z-index: 0;}#sk-container-id-5 div.sk-serial {display: flex;flex-direction: column;align-items: center;background-color: white;padding-right: 0.2em;padding-left: 0.2em;position: relative;}#sk-container-id-5 div.sk-item {position: relative;z-index: 1;}#sk-container-id-5 div.sk-parallel {display: flex;align-items: stretch;justify-content: center;background-color: white;position: relative;}#sk-container-id-5 div.sk-item::before, #sk-container-id-5 div.sk-parallel-item::before {content: \"\";position: absolute;border-left: 1px solid gray;box-sizing: border-box;top: 0;bottom: 0;left: 50%;z-index: -1;}#sk-container-id-5 div.sk-parallel-item {display: flex;flex-direction: column;z-index: 1;position: relative;background-color: white;}#sk-container-id-5 div.sk-parallel-item:first-child::after {align-self: flex-end;width: 50%;}#sk-container-id-5 div.sk-parallel-item:last-child::after {align-self: flex-start;width: 50%;}#sk-container-id-5 div.sk-parallel-item:only-child::after {width: 0;}#sk-container-id-5 div.sk-dashed-wrapped {border: 1px dashed gray;margin: 0 0.4em 0.5em 0.4em;box-sizing: border-box;padding-bottom: 0.4em;background-color: white;}#sk-container-id-5 div.sk-label label {font-family: monospace;font-weight: bold;display: inline-block;line-height: 1.2em;}#sk-container-id-5 div.sk-label-container {text-align: center;}#sk-container-id-5 div.sk-container {/* jupyter's `normalize.less` sets `[hidden] { display: none; }` but bootstrap.min.css set `[hidden] { display: none !important; }` so we also need the `!important` here to be able to override the default hidden behavior on the sphinx rendered scikit-learn.org. See: https://github.com/scikit-learn/scikit-learn/issues/21755 */display: inline-block !important;position: relative;}#sk-container-id-5 div.sk-text-repr-fallback {display: none;}</style><div id=\"sk-container-id-5\" class=\"sk-top-container\"><div class=\"sk-text-repr-fallback\"><pre>GridSearchCV(cv=3,\n",
       "             estimator=XGBRegressor(base_score=None, booster=None,\n",
       "                                    callbacks=None, colsample_bylevel=None,\n",
       "                                    colsample_bynode=None,\n",
       "                                    colsample_bytree=None, device=None,\n",
       "                                    early_stopping_rounds=None,\n",
       "                                    enable_categorical=False, eval_metric=None,\n",
       "                                    feature_types=None, feature_weights=None,\n",
       "                                    gamma=None, grow_policy=None,\n",
       "                                    importance_type=None,\n",
       "                                    interaction_constraints=None,\n",
       "                                    learning_rate=0.08, max_bin=None,\n",
       "                                    max_cat_threshold=None,\n",
       "                                    max_cat_to_onehot=None, max_delta_step=None,\n",
       "                                    max_depth=4, max_leaves=None,\n",
       "                                    min_child_weight=5, missing=nan,\n",
       "                                    monotone_constraints=None,\n",
       "                                    multi_strategy=None, n_estimators=300,\n",
       "                                    n_jobs=None, num_parallel_tree=None, ...),\n",
       "             param_grid={&#x27;subsample&#x27;: array([0.1, 0.2, 0.3, 0.4, 0.5, 0.6, 0.7, 0.8])},\n",
       "             scoring=&#x27;neg_mean_squared_error&#x27;)</pre><b>In a Jupyter environment, please rerun this cell to show the HTML representation or trust the notebook. <br />On GitHub, the HTML representation is unable to render, please try loading this page with nbviewer.org.</b></div><div class=\"sk-container\" hidden><div class=\"sk-item sk-dashed-wrapped\"><div class=\"sk-label-container\"><div class=\"sk-label sk-toggleable\"><input class=\"sk-toggleable__control sk-hidden--visually\" id=\"sk-estimator-id-11\" type=\"checkbox\" ><label for=\"sk-estimator-id-11\" class=\"sk-toggleable__label sk-toggleable__label-arrow\">GridSearchCV</label><div class=\"sk-toggleable__content\"><pre>GridSearchCV(cv=3,\n",
       "             estimator=XGBRegressor(base_score=None, booster=None,\n",
       "                                    callbacks=None, colsample_bylevel=None,\n",
       "                                    colsample_bynode=None,\n",
       "                                    colsample_bytree=None, device=None,\n",
       "                                    early_stopping_rounds=None,\n",
       "                                    enable_categorical=False, eval_metric=None,\n",
       "                                    feature_types=None, feature_weights=None,\n",
       "                                    gamma=None, grow_policy=None,\n",
       "                                    importance_type=None,\n",
       "                                    interaction_constraints=None,\n",
       "                                    learning_rate=0.08, max_bin=None,\n",
       "                                    max_cat_threshold=None,\n",
       "                                    max_cat_to_onehot=None, max_delta_step=None,\n",
       "                                    max_depth=4, max_leaves=None,\n",
       "                                    min_child_weight=5, missing=nan,\n",
       "                                    monotone_constraints=None,\n",
       "                                    multi_strategy=None, n_estimators=300,\n",
       "                                    n_jobs=None, num_parallel_tree=None, ...),\n",
       "             param_grid={&#x27;subsample&#x27;: array([0.1, 0.2, 0.3, 0.4, 0.5, 0.6, 0.7, 0.8])},\n",
       "             scoring=&#x27;neg_mean_squared_error&#x27;)</pre></div></div></div><div class=\"sk-parallel\"><div class=\"sk-parallel-item\"><div class=\"sk-item\"><div class=\"sk-label-container\"><div class=\"sk-label sk-toggleable\"><input class=\"sk-toggleable__control sk-hidden--visually\" id=\"sk-estimator-id-12\" type=\"checkbox\" ><label for=\"sk-estimator-id-12\" class=\"sk-toggleable__label sk-toggleable__label-arrow\">estimator: XGBRegressor</label><div class=\"sk-toggleable__content\"><pre>XGBRegressor(base_score=None, booster=None, callbacks=None,\n",
       "             colsample_bylevel=None, colsample_bynode=None,\n",
       "             colsample_bytree=None, device=None, early_stopping_rounds=None,\n",
       "             enable_categorical=False, eval_metric=None, feature_types=None,\n",
       "             feature_weights=None, gamma=None, grow_policy=None,\n",
       "             importance_type=None, interaction_constraints=None,\n",
       "             learning_rate=0.08, max_bin=None, max_cat_threshold=None,\n",
       "             max_cat_to_onehot=None, max_delta_step=None, max_depth=4,\n",
       "             max_leaves=None, min_child_weight=5, missing=nan,\n",
       "             monotone_constraints=None, multi_strategy=None, n_estimators=300,\n",
       "             n_jobs=None, num_parallel_tree=None, ...)</pre></div></div></div><div class=\"sk-serial\"><div class=\"sk-item\"><div class=\"sk-estimator sk-toggleable\"><input class=\"sk-toggleable__control sk-hidden--visually\" id=\"sk-estimator-id-13\" type=\"checkbox\" ><label for=\"sk-estimator-id-13\" class=\"sk-toggleable__label sk-toggleable__label-arrow\">XGBRegressor</label><div class=\"sk-toggleable__content\"><pre>XGBRegressor(base_score=None, booster=None, callbacks=None,\n",
       "             colsample_bylevel=None, colsample_bynode=None,\n",
       "             colsample_bytree=None, device=None, early_stopping_rounds=None,\n",
       "             enable_categorical=False, eval_metric=None, feature_types=None,\n",
       "             feature_weights=None, gamma=None, grow_policy=None,\n",
       "             importance_type=None, interaction_constraints=None,\n",
       "             learning_rate=0.08, max_bin=None, max_cat_threshold=None,\n",
       "             max_cat_to_onehot=None, max_delta_step=None, max_depth=4,\n",
       "             max_leaves=None, min_child_weight=5, missing=nan,\n",
       "             monotone_constraints=None, multi_strategy=None, n_estimators=300,\n",
       "             n_jobs=None, num_parallel_tree=None, ...)</pre></div></div></div></div></div></div></div></div></div></div>"
      ],
      "text/plain": [
       "GridSearchCV(cv=3,\n",
       "             estimator=XGBRegressor(base_score=None, booster=None,\n",
       "                                    callbacks=None, colsample_bylevel=None,\n",
       "                                    colsample_bynode=None,\n",
       "                                    colsample_bytree=None, device=None,\n",
       "                                    early_stopping_rounds=None,\n",
       "                                    enable_categorical=False, eval_metric=None,\n",
       "                                    feature_types=None, feature_weights=None,\n",
       "                                    gamma=None, grow_policy=None,\n",
       "                                    importance_type=None,\n",
       "                                    interaction_constraints=None,\n",
       "                                    learning_rate=0.08, max_bin=None,\n",
       "                                    max_cat_threshold=None,\n",
       "                                    max_cat_to_onehot=None, max_delta_step=None,\n",
       "                                    max_depth=4, max_leaves=None,\n",
       "                                    min_child_weight=5, missing=nan,\n",
       "                                    monotone_constraints=None,\n",
       "                                    multi_strategy=None, n_estimators=300,\n",
       "                                    n_jobs=None, num_parallel_tree=None, ...),\n",
       "             param_grid={'subsample': array([0.1, 0.2, 0.3, 0.4, 0.5, 0.6, 0.7, 0.8])},\n",
       "             scoring='neg_mean_squared_error')"
      ]
     },
     "execution_count": 40,
     "metadata": {},
     "output_type": "execute_result"
    }
   ],
   "source": [
    "# Hyperparameter tuning - subsample\n",
    "\n",
    "# Define params grid\n",
    "param_grid = {\n",
    "    \"subsample\": np.arange(0.1, 0.9, 0.1)\n",
    "}\n",
    "\n",
    "# Create model\n",
    "model = xgb.XGBRegressor(learning_rate = 0.08, \n",
    "                         n_estimators = 300,\n",
    "                         max_depth = 4,\n",
    "                         min_child_weight = 5)\n",
    "\n",
    "# Grid search\n",
    "grid_search = GridSearchCV(model, \n",
    "                           param_grid = param_grid, \n",
    "                           cv = 3, \n",
    "                           scoring = \"neg_mean_squared_error\")\n",
    "grid_search.fit(X_train, y_train)"
   ]
  },
  {
   "cell_type": "code",
   "execution_count": null,
   "metadata": {},
   "outputs": [
    {
     "data": {
      "text/plain": [
       "{'subsample': 0.7000000000000001}"
      ]
     },
     "execution_count": 41,
     "metadata": {},
     "output_type": "execute_result"
    }
   ],
   "source": [
    "### Get best params and use in next round of tuning\n",
    "grid_search.best_params_"
   ]
  },
  {
   "cell_type": "code",
   "execution_count": null,
   "metadata": {},
   "outputs": [
    {
     "data": {
      "text/html": [
       "<style>#sk-container-id-6 {color: black;}#sk-container-id-6 pre{padding: 0;}#sk-container-id-6 div.sk-toggleable {background-color: white;}#sk-container-id-6 label.sk-toggleable__label {cursor: pointer;display: block;width: 100%;margin-bottom: 0;padding: 0.3em;box-sizing: border-box;text-align: center;}#sk-container-id-6 label.sk-toggleable__label-arrow:before {content: \"▸\";float: left;margin-right: 0.25em;color: #696969;}#sk-container-id-6 label.sk-toggleable__label-arrow:hover:before {color: black;}#sk-container-id-6 div.sk-estimator:hover label.sk-toggleable__label-arrow:before {color: black;}#sk-container-id-6 div.sk-toggleable__content {max-height: 0;max-width: 0;overflow: hidden;text-align: left;background-color: #f0f8ff;}#sk-container-id-6 div.sk-toggleable__content pre {margin: 0.2em;color: black;border-radius: 0.25em;background-color: #f0f8ff;}#sk-container-id-6 input.sk-toggleable__control:checked~div.sk-toggleable__content {max-height: 200px;max-width: 100%;overflow: auto;}#sk-container-id-6 input.sk-toggleable__control:checked~label.sk-toggleable__label-arrow:before {content: \"▾\";}#sk-container-id-6 div.sk-estimator input.sk-toggleable__control:checked~label.sk-toggleable__label {background-color: #d4ebff;}#sk-container-id-6 div.sk-label input.sk-toggleable__control:checked~label.sk-toggleable__label {background-color: #d4ebff;}#sk-container-id-6 input.sk-hidden--visually {border: 0;clip: rect(1px 1px 1px 1px);clip: rect(1px, 1px, 1px, 1px);height: 1px;margin: -1px;overflow: hidden;padding: 0;position: absolute;width: 1px;}#sk-container-id-6 div.sk-estimator {font-family: monospace;background-color: #f0f8ff;border: 1px dotted black;border-radius: 0.25em;box-sizing: border-box;margin-bottom: 0.5em;}#sk-container-id-6 div.sk-estimator:hover {background-color: #d4ebff;}#sk-container-id-6 div.sk-parallel-item::after {content: \"\";width: 100%;border-bottom: 1px solid gray;flex-grow: 1;}#sk-container-id-6 div.sk-label:hover label.sk-toggleable__label {background-color: #d4ebff;}#sk-container-id-6 div.sk-serial::before {content: \"\";position: absolute;border-left: 1px solid gray;box-sizing: border-box;top: 0;bottom: 0;left: 50%;z-index: 0;}#sk-container-id-6 div.sk-serial {display: flex;flex-direction: column;align-items: center;background-color: white;padding-right: 0.2em;padding-left: 0.2em;position: relative;}#sk-container-id-6 div.sk-item {position: relative;z-index: 1;}#sk-container-id-6 div.sk-parallel {display: flex;align-items: stretch;justify-content: center;background-color: white;position: relative;}#sk-container-id-6 div.sk-item::before, #sk-container-id-6 div.sk-parallel-item::before {content: \"\";position: absolute;border-left: 1px solid gray;box-sizing: border-box;top: 0;bottom: 0;left: 50%;z-index: -1;}#sk-container-id-6 div.sk-parallel-item {display: flex;flex-direction: column;z-index: 1;position: relative;background-color: white;}#sk-container-id-6 div.sk-parallel-item:first-child::after {align-self: flex-end;width: 50%;}#sk-container-id-6 div.sk-parallel-item:last-child::after {align-self: flex-start;width: 50%;}#sk-container-id-6 div.sk-parallel-item:only-child::after {width: 0;}#sk-container-id-6 div.sk-dashed-wrapped {border: 1px dashed gray;margin: 0 0.4em 0.5em 0.4em;box-sizing: border-box;padding-bottom: 0.4em;background-color: white;}#sk-container-id-6 div.sk-label label {font-family: monospace;font-weight: bold;display: inline-block;line-height: 1.2em;}#sk-container-id-6 div.sk-label-container {text-align: center;}#sk-container-id-6 div.sk-container {/* jupyter's `normalize.less` sets `[hidden] { display: none; }` but bootstrap.min.css set `[hidden] { display: none !important; }` so we also need the `!important` here to be able to override the default hidden behavior on the sphinx rendered scikit-learn.org. See: https://github.com/scikit-learn/scikit-learn/issues/21755 */display: inline-block !important;position: relative;}#sk-container-id-6 div.sk-text-repr-fallback {display: none;}</style><div id=\"sk-container-id-6\" class=\"sk-top-container\"><div class=\"sk-text-repr-fallback\"><pre>GridSearchCV(cv=3,\n",
       "             estimator=XGBRegressor(base_score=None, booster=None,\n",
       "                                    callbacks=None, colsample_bylevel=None,\n",
       "                                    colsample_bynode=None,\n",
       "                                    colsample_bytree=None, device=None,\n",
       "                                    early_stopping_rounds=None,\n",
       "                                    enable_categorical=False, eval_metric=None,\n",
       "                                    feature_types=None, feature_weights=None,\n",
       "                                    gamma=None, grow_policy=None,\n",
       "                                    importance_type=None,\n",
       "                                    interaction_constraints=None...\n",
       "                                    max_cat_threshold=None,\n",
       "                                    max_cat_to_onehot=None, max_delta_step=None,\n",
       "                                    max_depth=4, max_leaves=None,\n",
       "                                    min_child_weight=5, missing=nan,\n",
       "                                    monotone_constraints=None,\n",
       "                                    multi_strategy=None, n_estimators=300,\n",
       "                                    n_jobs=None, num_parallel_tree=None, ...),\n",
       "             param_grid={&#x27;reg_lambda&#x27;: array([0.1, 0.2, 0.3, 0.4, 0.5, 0.6, 0.7, 0.8, 0.9, 1. , 1.1, 1.2, 1.3,\n",
       "       1.4, 1.5, 1.6, 1.7, 1.8, 1.9])},\n",
       "             scoring=&#x27;neg_mean_squared_error&#x27;)</pre><b>In a Jupyter environment, please rerun this cell to show the HTML representation or trust the notebook. <br />On GitHub, the HTML representation is unable to render, please try loading this page with nbviewer.org.</b></div><div class=\"sk-container\" hidden><div class=\"sk-item sk-dashed-wrapped\"><div class=\"sk-label-container\"><div class=\"sk-label sk-toggleable\"><input class=\"sk-toggleable__control sk-hidden--visually\" id=\"sk-estimator-id-14\" type=\"checkbox\" ><label for=\"sk-estimator-id-14\" class=\"sk-toggleable__label sk-toggleable__label-arrow\">GridSearchCV</label><div class=\"sk-toggleable__content\"><pre>GridSearchCV(cv=3,\n",
       "             estimator=XGBRegressor(base_score=None, booster=None,\n",
       "                                    callbacks=None, colsample_bylevel=None,\n",
       "                                    colsample_bynode=None,\n",
       "                                    colsample_bytree=None, device=None,\n",
       "                                    early_stopping_rounds=None,\n",
       "                                    enable_categorical=False, eval_metric=None,\n",
       "                                    feature_types=None, feature_weights=None,\n",
       "                                    gamma=None, grow_policy=None,\n",
       "                                    importance_type=None,\n",
       "                                    interaction_constraints=None...\n",
       "                                    max_cat_threshold=None,\n",
       "                                    max_cat_to_onehot=None, max_delta_step=None,\n",
       "                                    max_depth=4, max_leaves=None,\n",
       "                                    min_child_weight=5, missing=nan,\n",
       "                                    monotone_constraints=None,\n",
       "                                    multi_strategy=None, n_estimators=300,\n",
       "                                    n_jobs=None, num_parallel_tree=None, ...),\n",
       "             param_grid={&#x27;reg_lambda&#x27;: array([0.1, 0.2, 0.3, 0.4, 0.5, 0.6, 0.7, 0.8, 0.9, 1. , 1.1, 1.2, 1.3,\n",
       "       1.4, 1.5, 1.6, 1.7, 1.8, 1.9])},\n",
       "             scoring=&#x27;neg_mean_squared_error&#x27;)</pre></div></div></div><div class=\"sk-parallel\"><div class=\"sk-parallel-item\"><div class=\"sk-item\"><div class=\"sk-label-container\"><div class=\"sk-label sk-toggleable\"><input class=\"sk-toggleable__control sk-hidden--visually\" id=\"sk-estimator-id-15\" type=\"checkbox\" ><label for=\"sk-estimator-id-15\" class=\"sk-toggleable__label sk-toggleable__label-arrow\">estimator: XGBRegressor</label><div class=\"sk-toggleable__content\"><pre>XGBRegressor(base_score=None, booster=None, callbacks=None,\n",
       "             colsample_bylevel=None, colsample_bynode=None,\n",
       "             colsample_bytree=None, device=None, early_stopping_rounds=None,\n",
       "             enable_categorical=False, eval_metric=None, feature_types=None,\n",
       "             feature_weights=None, gamma=None, grow_policy=None,\n",
       "             importance_type=None, interaction_constraints=None,\n",
       "             learning_rate=0.08, max_bin=None, max_cat_threshold=None,\n",
       "             max_cat_to_onehot=None, max_delta_step=None, max_depth=4,\n",
       "             max_leaves=None, min_child_weight=5, missing=nan,\n",
       "             monotone_constraints=None, multi_strategy=None, n_estimators=300,\n",
       "             n_jobs=None, num_parallel_tree=None, ...)</pre></div></div></div><div class=\"sk-serial\"><div class=\"sk-item\"><div class=\"sk-estimator sk-toggleable\"><input class=\"sk-toggleable__control sk-hidden--visually\" id=\"sk-estimator-id-16\" type=\"checkbox\" ><label for=\"sk-estimator-id-16\" class=\"sk-toggleable__label sk-toggleable__label-arrow\">XGBRegressor</label><div class=\"sk-toggleable__content\"><pre>XGBRegressor(base_score=None, booster=None, callbacks=None,\n",
       "             colsample_bylevel=None, colsample_bynode=None,\n",
       "             colsample_bytree=None, device=None, early_stopping_rounds=None,\n",
       "             enable_categorical=False, eval_metric=None, feature_types=None,\n",
       "             feature_weights=None, gamma=None, grow_policy=None,\n",
       "             importance_type=None, interaction_constraints=None,\n",
       "             learning_rate=0.08, max_bin=None, max_cat_threshold=None,\n",
       "             max_cat_to_onehot=None, max_delta_step=None, max_depth=4,\n",
       "             max_leaves=None, min_child_weight=5, missing=nan,\n",
       "             monotone_constraints=None, multi_strategy=None, n_estimators=300,\n",
       "             n_jobs=None, num_parallel_tree=None, ...)</pre></div></div></div></div></div></div></div></div></div></div>"
      ],
      "text/plain": [
       "GridSearchCV(cv=3,\n",
       "             estimator=XGBRegressor(base_score=None, booster=None,\n",
       "                                    callbacks=None, colsample_bylevel=None,\n",
       "                                    colsample_bynode=None,\n",
       "                                    colsample_bytree=None, device=None,\n",
       "                                    early_stopping_rounds=None,\n",
       "                                    enable_categorical=False, eval_metric=None,\n",
       "                                    feature_types=None, feature_weights=None,\n",
       "                                    gamma=None, grow_policy=None,\n",
       "                                    importance_type=None,\n",
       "                                    interaction_constraints=None...\n",
       "                                    max_cat_threshold=None,\n",
       "                                    max_cat_to_onehot=None, max_delta_step=None,\n",
       "                                    max_depth=4, max_leaves=None,\n",
       "                                    min_child_weight=5, missing=nan,\n",
       "                                    monotone_constraints=None,\n",
       "                                    multi_strategy=None, n_estimators=300,\n",
       "                                    n_jobs=None, num_parallel_tree=None, ...),\n",
       "             param_grid={'reg_lambda': array([0.1, 0.2, 0.3, 0.4, 0.5, 0.6, 0.7, 0.8, 0.9, 1. , 1.1, 1.2, 1.3,\n",
       "       1.4, 1.5, 1.6, 1.7, 1.8, 1.9])},\n",
       "             scoring='neg_mean_squared_error')"
      ]
     },
     "execution_count": 42,
     "metadata": {},
     "output_type": "execute_result"
    }
   ],
   "source": [
    "# Hyperparameter tuning - reg_lambda\n",
    "\n",
    "# Define params grid\n",
    "param_grid = {\n",
    "    \"reg_lambda\": np.arange(0.1, 2, 0.1)\n",
    "}\n",
    "\n",
    "# Create model\n",
    "model = xgb.XGBRegressor(learning_rate = 0.08, \n",
    "                         n_estimators = 300,\n",
    "                         max_depth = 4,\n",
    "                         min_child_weight = 5,\n",
    "                         subsample = 0.7)\n",
    "\n",
    "# Grid search\n",
    "grid_search = GridSearchCV(model, \n",
    "                           param_grid = param_grid, \n",
    "                           cv = 3, \n",
    "                           scoring = \"neg_mean_squared_error\")\n",
    "grid_search.fit(X_train, y_train)"
   ]
  },
  {
   "cell_type": "code",
   "execution_count": null,
   "metadata": {},
   "outputs": [
    {
     "data": {
      "text/plain": [
       "{'reg_lambda': 1.2000000000000002}"
      ]
     },
     "execution_count": 43,
     "metadata": {},
     "output_type": "execute_result"
    }
   ],
   "source": [
    "# Get best params\n",
    "grid_search.best_params_"
   ]
  },
  {
   "cell_type": "markdown",
   "metadata": {},
   "source": [
    "Prediction Model"
   ]
  },
  {
   "cell_type": "code",
   "execution_count": null,
   "metadata": {},
   "outputs": [
    {
     "name": "stdout",
     "output_type": "stream",
     "text": [
      "MSE:  4.2020121729731256e-05\n",
      "RMSE:  0.0064822929376672925\n",
      "R^2 score:  0.9687852323076759\n",
      "std:  0.006479947546557563\n"
     ]
    }
   ],
   "source": [
    "# Build model using best params\n",
    "# Note - some parameters are slightly adjusted from the grid search results to minimize errors and maximize R^2\n",
    "\n",
    "best_params = {\n",
    "    \"learning_rate\": 0.09,\n",
    "    \"n_estimators\": 300,\n",
    "    \"max_depth\": 5,\n",
    "    \"min_child_weight\": 7,\n",
    "    \"subsample\": 0.8,\n",
    "    \"colsample_bytree\": 0.7,\n",
    "    \"reg_lambda\": 1.6,\n",
    "    \"objective\": \"reg:squarederror\",\n",
    "    \"eval_metric\": \"rmse\"\n",
    "}\n",
    "\n",
    "# Grid search\n",
    "final_model = xgb.XGBRegressor(**best_params)\n",
    "final_model.fit(X_train, y_train)\n",
    "\n",
    "# Make predictions\n",
    "pred = final_model.predict(X_test)\n",
    "\n",
    "# Get MSE\n",
    "mse = mean_squared_error(y_test, pred)\n",
    "\n",
    "# Get r2 score\n",
    "r2 = r2_score(y_test, pred)\n",
    "\n",
    "# Get std\n",
    "res = y_test - pred\n",
    "std = np.std(res)\n",
    "\n",
    "# Print results\n",
    "print(\"MSE: \", mse)\n",
    "print(\"RMSE: \", np.sqrt(mse))\n",
    "print(\"R^2 score: \", r2)\n",
    "print(\"std: \", std)"
   ]
  },
  {
   "cell_type": "code",
   "execution_count": null,
   "metadata": {},
   "outputs": [
    {
     "name": "stdout",
     "output_type": "stream",
     "text": [
      "Percentage error using mean squared error: 0.471%\n"
     ]
    }
   ],
   "source": [
    "# Average percentage error of predictions from XGBoost Regressor model\n",
    "mean_ri = np.mean(y)\n",
    "pct_error = (np.sqrt(mse) / mean_ri) * 100\n",
    "print(f\"Percentage error using mean squared error: {pct_error:.3f}%\")"
   ]
  },
  {
   "cell_type": "markdown",
   "metadata": {},
   "source": [
    "Perform 10-fold cross validation"
   ]
  },
  {
   "cell_type": "code",
   "execution_count": null,
   "metadata": {},
   "outputs": [
    {
     "name": "stdout",
     "output_type": "stream",
     "text": [
      "Training R²: 0.9945\n",
      "Cross-Validation R²: 0.9557\n",
      "Test R²: 0.9688\n"
     ]
    }
   ],
   "source": [
    "# Training R² (how well the model fits the training data)\n",
    "y_train_pred = final_model.predict(X_train)\n",
    "r2_train = r2_score(y_train, y_train_pred)\n",
    "\n",
    "# Cross-validation R² \n",
    "cv_scores = cross_val_score(final_model, X_train, y_train, cv=10, scoring='r2')\n",
    "r2_cv_mean = cv_scores.mean()\n",
    "\n",
    "# Test R² (how well the model generalizes to new unseen data)\n",
    "y_test_pred = final_model.predict(X_test)\n",
    "r2_test = r2_score(y_test, y_test_pred)\n",
    "\n",
    "print(f\"Training R²: {r2_train:.4f}\")\n",
    "print(f\"Cross-Validation R²: {r2_cv_mean:.4f}\")\n",
    "print(f\"Test R²: {r2_test:.4f}\")"
   ]
  },
  {
   "cell_type": "code",
   "execution_count": null,
   "metadata": {},
   "outputs": [
    {
     "name": "stderr",
     "output_type": "stream",
     "text": [
      "/Users/quynhanhnguyen/opt/anaconda3/envs/ds2500/lib/python3.10/site-packages/seaborn/_oldcore.py:1498: FutureWarning: is_categorical_dtype is deprecated and will be removed in a future version. Use isinstance(dtype, CategoricalDtype) instead\n",
      "  if pd.api.types.is_categorical_dtype(vector):\n",
      "/Users/quynhanhnguyen/opt/anaconda3/envs/ds2500/lib/python3.10/site-packages/seaborn/_oldcore.py:1119: FutureWarning: use_inf_as_na option is deprecated and will be removed in a future version. Convert inf values to NaN before operating instead.\n",
      "  with pd.option_context('mode.use_inf_as_na', True):\n",
      "/Users/quynhanhnguyen/opt/anaconda3/envs/ds2500/lib/python3.10/site-packages/seaborn/_oldcore.py:1498: FutureWarning: is_categorical_dtype is deprecated and will be removed in a future version. Use isinstance(dtype, CategoricalDtype) instead\n",
      "  if pd.api.types.is_categorical_dtype(vector):\n",
      "/Users/quynhanhnguyen/opt/anaconda3/envs/ds2500/lib/python3.10/site-packages/seaborn/_oldcore.py:1119: FutureWarning: use_inf_as_na option is deprecated and will be removed in a future version. Convert inf values to NaN before operating instead.\n",
      "  with pd.option_context('mode.use_inf_as_na', True):\n"
     ]
    },
    {
     "data": {
      "image/png": "[encoded data removed]",
      "text/plain": [
       "<Figure size 800x500 with 1 Axes>"
      ]
     },
     "metadata": {},
     "output_type": "display_data"
    }
   ],
   "source": [
    "# Visualize model's performance\n",
    "# Plot the actual and predicted refractive index distributions\n",
    "plt.figure(figsize=(8,5))\n",
    "\n",
    "# sns.kdeplot(y_train, label=\"Actual Training\", fill=True, alpha=0.5, color=\"blue\")\n",
    "sns.kdeplot(y_test, label=\"Actual\", fill=True, alpha=0.5, color=\"blue\")\n",
    "sns.kdeplot(pred, label=\"Predicted\", fill=True, alpha=0.5, color=\"pink\")\n",
    "\n",
    "plt.xlabel(\"Refractive Index\")\n",
    "plt.ylabel(\"Density\")\n",
    "plt.legend()\n",
    "plt.title(\"Actual vs. Predicted Refractive Index Distributions\")\n",
    "plt.show()"
   ]
  },
  {
   "cell_type": "markdown",
   "metadata": {},
   "source": [
    "#### Making predictions using the optimized XGBoost Regressor model"
   ]
  },
  {
   "cell_type": "code",
   "execution_count": 62,
   "metadata": {},
   "outputs": [],
   "source": [
    "# Helper function\n",
    "def count_bonds(mol):\n",
    "    \"\"\" Function to count the number of single and double bonds in a molecule. \"\"\"\n",
    "    # Add explicit Hs\n",
    "    mol_wh = Chem.AddHs(mol)\n",
    "    \n",
    "    single = 0\n",
    "    double = 0\n",
    "    \n",
    "    for bond in mol_wh.GetBonds():\n",
    "        if bond.GetBondType() == Chem.BondType.SINGLE:\n",
    "            single += 1\n",
    "        elif bond.GetBondType() == Chem.BondType.DOUBLE:\n",
    "            double += 1\n",
    "\n",
    "    return single, double"
   ]
  },
  {
   "cell_type": "markdown",
   "metadata": {},
   "source": [
    "Function *predict_ri* predicts refractive index of a compound. The input parameters of this function are:  \n",
    "- Name of the compound\n",
    "- SMILES of the compound  \n",
    "- Concentration to make prediction at"
   ]
  },
  {
   "cell_type": "code",
   "execution_count": 63,
   "metadata": {},
   "outputs": [],
   "source": [
    "selected_features = [\"molar_conc\", \"NumAromaticRings\", \"CrippenClogP\", \"FractionCSP3\", \"mw\", \"NumRings\", \"CrippenMR\",\n",
    "                     \"hallKierAlpha\", \"NumHeteroatoms\", \"chi1v\", \"single\", \"labuteASA\", \"tpsa\", \"NumHBD\", \"chi2v\",\n",
    "                     \"chi4v\", \"kappa3\", \"Phi\", \"kappa2\", \"chi0n\"]"
   ]
  },
  {
   "cell_type": "code",
   "execution_count": 91,
   "metadata": {},
   "outputs": [],
   "source": [
    "def predict_ri(compound_name, smiles, molar_conc,\n",
    "               model=final_model, \n",
    "               selected_features=selected_features):\n",
    "    \"\"\" Given a SMILES, obtain the specified properties of the compound and make\n",
    "        refractive index prediction using the specified prediction model. \"\"\"\n",
    "    \n",
    "    # Convert SMILES to mol\n",
    "    mol = Chem.MolFromSmiles(smiles)\n",
    "    \n",
    "    # Create an empty dictionary to contain compound's properties\n",
    "    properties_dct = {}\n",
    "    \n",
    "    # Add molecular weight\n",
    "    properties_dct[\"mw\"] = float(Chem.Descriptors.MolWt(mol))\n",
    "\n",
    "    # Initialize Properties object\n",
    "    properties = rdMolDescriptors.Properties()\n",
    "\n",
    "    # Get all property names\n",
    "    property_names = properties.GetPropertyNames()\n",
    "\n",
    "    # Compute all properties for the molecule\n",
    "    property_values = properties.ComputeProperties(mol)\n",
    "\n",
    "    # Add all properties and their values to the dictionary\n",
    "    for name, value in zip(property_names, property_values):\n",
    "        if name in properties_dct:\n",
    "            properties_dct[name].append(value)\n",
    "        else:\n",
    "            properties_dct[name] = [value]\n",
    "            \n",
    "    # Compute number of single/double bonds\n",
    "    properties_dct[\"single\"] = count_bonds(mol)[0]\n",
    "    properties_dct[\"double\"] = count_bonds(mol)[1]\n",
    "    \n",
    "    # Add molar concentration to dictionary\n",
    "    properties_dct[\"molar_conc\"] = molar_conc\n",
    "\n",
    "    # Select important features\n",
    "    features = pd.DataFrame(properties_dct, index = [1])\n",
    "    selected = features[selected_features]\n",
    "    \n",
    "    # Prediction\n",
    "    prediction = model.predict(selected)\n",
    "\n",
    "    print(f\"{compound_name} RI at {molar_conc} M: {prediction[0]:.3f}\")"
   ]
  },
  {
   "cell_type": "markdown",
   "metadata": {},
   "source": [
    "#### Predictions\n",
    "To make prediction, call the function in this format:    \n",
    "\n",
    "predict_ri(compound_name, SMILES, molar_concentration)"
   ]
  },
  {
   "cell_type": "code",
   "execution_count": 101,
   "metadata": {},
   "outputs": [
    {
     "name": "stdout",
     "output_type": "stream",
     "text": [
      "Tartrazine RI at 1 M: 1.428\n"
     ]
    }
   ],
   "source": [
    "# Tartrazine - compound 4\n",
    "predict_ri(\"Tartrazine\",    # Compound name\n",
    "           \"C1=CC(=CC=C1N=NC2C(=NN(C2=O)C3=CC=C(C=C3)S(=O)(=O)[O-])C(=O)[O-])S(=O)(=O)[O-].[Na+].[Na+].[Na+]\",  # SMILES\n",
    "           1)   # Molar concentration"
   ]
  },
  {
   "cell_type": "code",
   "execution_count": 123,
   "metadata": {},
   "outputs": [
    {
     "name": "stdout",
     "output_type": "stream",
     "text": [
      "Methylene blue RI at 1 M: 1.368\n"
     ]
    }
   ],
   "source": [
    "# Methylene blue - compound 20\n",
    "predict_ri(\"Methylene blue\",    # Compound name\n",
    "           \"CN(C)C1=CC2=C(C=C1)N=C3C=CC(=[N+](C)C)C=C3S2.[Cl-]\",  # SMILES\n",
    "           1)   # Molar concentration"
   ]
  },
  {
   "cell_type": "code",
   "execution_count": 99,
   "metadata": {},
   "outputs": [
    {
     "name": "stdout",
     "output_type": "stream",
     "text": [
      "Rhodamine B RI at 1 M: 1.419\n"
     ]
    }
   ],
   "source": [
    "# Rhodamine B - compound 11\n",
    "predict_ri(\"Rhodamine B\",\n",
    "           \"CCN(CC)C1=CC2=C(C=C1)C(=C3C=CC(=[N+](CC)CC)C=C3O2)C4=CC=CC=C4C(=O)O.[Cl-]\",\n",
    "           1)"
   ]
  },
  {
   "cell_type": "code",
   "execution_count": 98,
   "metadata": {},
   "outputs": [
    {
     "name": "stdout",
     "output_type": "stream",
     "text": [
      "Pyranine RI at 1 M: 1.436\n"
     ]
    }
   ],
   "source": [
    "# Pyranine - compound 1\n",
    "predict_ri(\"Pyranine\",\n",
    "           \"C1=CC2=C3C(=C(C=C2S(=O)(=O)[O-])S(=O)(=O)[O-])C=CC4=C(C=C(C1=C43)O)S(=O)(=O)[O-].[Na+].[Na+].[Na+]\",\n",
    "           1)"
   ]
  },
  {
   "cell_type": "code",
   "execution_count": 97,
   "metadata": {},
   "outputs": [
    {
     "name": "stdout",
     "output_type": "stream",
     "text": [
      "Curcumin RI at 1 M: 1.414\n"
     ]
    }
   ],
   "source": [
    "# Curcumin - compound 3\n",
    "predict_ri(\"Curcumin\",\n",
    "           \"COC1=C(C=CC(=C1)/C=C/C(=O)CC(=O)/C=C/C2=CC(=C(C=C2)O)OC)O\",\n",
    "           1)"
   ]
  },
  {
   "cell_type": "code",
   "execution_count": 102,
   "metadata": {},
   "outputs": [
    {
     "name": "stdout",
     "output_type": "stream",
     "text": [
      "Methyl red RI at 1 M: 1.377\n"
     ]
    }
   ],
   "source": [
    "# Methyl red - compound 5\n",
    "predict_ri(\"Methyl red\",\n",
    "           \"CN(C)C1=CC=C(C=C1)N=NC2=CC=CC=C2C(=O)[O-].[Na+]\",\n",
    "           1)"
   ]
  },
  {
   "cell_type": "code",
   "execution_count": 103,
   "metadata": {},
   "outputs": [
    {
     "name": "stdout",
     "output_type": "stream",
     "text": [
      "Sunset yellow RI at 1 M: 1.425\n"
     ]
    }
   ],
   "source": [
    "# Sunset yellow - compound 6\n",
    "predict_ri(\"Sunset yellow\",\n",
    "           \"C1=CC(=CC=C1N=NC2=C(C=CC3=C2C=CC(=C3)S(=O)(=O)[O-])O)S(=O)(=O)[O-].[Na+].[Na+]\",\n",
    "           1)"
   ]
  },
  {
   "cell_type": "code",
   "execution_count": 104,
   "metadata": {},
   "outputs": [
    {
     "name": "stdout",
     "output_type": "stream",
     "text": [
      "Eosin Y Disodium RI at 1 M: 1.420\n"
     ]
    }
   ],
   "source": [
    "# Eosin Y Disodium - compound 7\n",
    "predict_ri(\"Eosin Y Disodium\",\n",
    "           \"C1=CC=C2C(=C1)C(=O)OC23C4=CC(=C(C(=C4OC5=C(C(=C(C=C35)Br)[O-])Br)Br)[O-])Br.[Na+].[Na+]\",\n",
    "           1)"
   ]
  },
  {
   "cell_type": "code",
   "execution_count": 105,
   "metadata": {},
   "outputs": [
    {
     "name": "stdout",
     "output_type": "stream",
     "text": [
      "Erythrosin B RI at 1 M: 1.419\n"
     ]
    }
   ],
   "source": [
    "# Erythrosin B - compound 8\n",
    "predict_ri(\"Erythrosin B\",\n",
    "           \"C1=CC=C2C(=C1)C(=O)OC23C4=CC(=C(C(=C4OC5=C(C(=C(C=C35)I)[O-])I)I)[O-])I.[Na+].[Na+]\",\n",
    "           1)"
   ]
  },
  {
   "cell_type": "code",
   "execution_count": 106,
   "metadata": {},
   "outputs": [
    {
     "name": "stdout",
     "output_type": "stream",
     "text": [
      "Congo red RI at 1 M: 1.421\n"
     ]
    }
   ],
   "source": [
    "# Congo red - compound 9\n",
    "predict_ri(\"Congo red\",\n",
    "           \"C1=CC=C2C(=C1)C(=CC(=C2N)N=NC3=CC=C(C=C3)C4=CC=C(C=C4)N=NC5=C(C6=CC=CC=C6C(=C5)S(=O)(=O)[O-])N)S(=O)(=O)[O-].[Na+].[Na+]\",\n",
    "           1)"
   ]
  },
  {
   "cell_type": "code",
   "execution_count": 107,
   "metadata": {},
   "outputs": [
    {
     "name": "stdout",
     "output_type": "stream",
     "text": [
      "Allura red RI at 1 M: 1.425\n"
     ]
    }
   ],
   "source": [
    "# Allura red - compound 10\n",
    "predict_ri(\"Allura red\",\n",
    "           \"CC1=CC(=C(C=C1S(=O)(=O)[O-])OC)N=NC2=C(C=CC3=C2C=CC(=C3)S(=O)(=O)[O-])O.[Na+].[Na+]\",\n",
    "           1)"
   ]
  },
  {
   "cell_type": "code",
   "execution_count": 108,
   "metadata": {},
   "outputs": [
    {
     "name": "stdout",
     "output_type": "stream",
     "text": [
      "Betanin RI at 1 M: 1.408\n"
     ]
    }
   ],
   "source": [
    "# Betanin - compound 12\n",
    "predict_ri(\"Betanin\",\n",
    "           \"C1[C@H](NC(=C/C1=CC=[N+]2[C@@H](CC3=CC(=C(C=C32)O)O[C@H]4[C@@H]([C@H]([C@@H]([C@H](O4)CO)O)O)O)C(=O)O)C(=O)O)C(=O)O\",\n",
    "           1)"
   ]
  },
  {
   "cell_type": "code",
   "execution_count": 109,
   "metadata": {},
   "outputs": [
    {
     "name": "stdout",
     "output_type": "stream",
     "text": [
      "m-Cresol purple RI at 1 M: 1.412\n"
     ]
    }
   ],
   "source": [
    "# m-Cresol purple - compound 13\n",
    "predict_ri(\"m-Cresol purple\",\n",
    "           \"CC1=CC(=O)C=CC1=C(C2=CC=CC=C2S(=O)(=O)O)C3=CC=C(C=C3O)C\",\n",
    "           1)"
   ]
  },
  {
   "cell_type": "code",
   "execution_count": 110,
   "metadata": {},
   "outputs": [
    {
     "name": "stdout",
     "output_type": "stream",
     "text": [
      "Coomassie Brilliant Blue R RI at 1 M: 1.418\n"
     ]
    }
   ],
   "source": [
    "# Coomassie Brilliant Blue R - compound 14\n",
    "predict_ri(\"Coomassie Brilliant Blue R\",\n",
    "           \"CCN(CC1=CC(=CC=C1)S(=O)(=O)[O-])C2=CC=C(C=C2)C(=C3C=CC(=[N+](CC)CC4=CC(=CC=C4)S(=O)(=O)[O-])C=C3)C5=CC=C(C=C5)NC6=CC=C(C=C6)OCC.[Na+]\",\n",
    "           1)"
   ]
  },
  {
   "cell_type": "code",
   "execution_count": 111,
   "metadata": {},
   "outputs": [
    {
     "name": "stdout",
     "output_type": "stream",
     "text": [
      "Remazol Black 5 RI at 1 M: 1.423\n"
     ]
    }
   ],
   "source": [
    "# Remazol Black 5 - compound 15\n",
    "predict_ri(\"Remazol Black 5\",\n",
    "           \"COC1=C(C=C(C=C1)S(=O)(=O)CCOS(=O)(=O)[O-])N=NC2=C(C3=C(C(=C(C=C3C=C2S(=O)(=O)[O-])S(=O)(=O)[O-])N=NC4=CC=C(C=C4)S(=O)(=O)CCOS(=O)(=O)[O-])N)O.[Na+].[Na+].[Na+].[Na+]\",\n",
    "           1)"
   ]
  },
  {
   "cell_type": "code",
   "execution_count": 112,
   "metadata": {},
   "outputs": [
    {
     "name": "stdout",
     "output_type": "stream",
     "text": [
      "Disodium benzenemethanaminium N-ethyl-N-[4-[[4-[ethyl[(3-sulfophenyl) RI at 1 M: 1.420\n"
     ]
    }
   ],
   "source": [
    "# Disodium benzenemethanaminium N-ethyl-N-[4-[[4-[ethyl[(3-sulfophenyl) - compound 16\n",
    "predict_ri(\"Disodium benzenemethanaminium N-ethyl-N-[4-[[4-[ethyl[(3-sulfophenyl)\",\n",
    "           \"CCN(CC1=CC(=CC=C1)S(=O)(=O)[O-])C2=CC=C(C=C2)C(=C3C=CC(=[N+](CC)CC4=CC(=CC=C4)S(=O)(=O)[O-])C=C3)C5=CC=C(C=C5)S(=O)(=O)[O-].[Na+]\",\n",
    "           1)"
   ]
  },
  {
   "cell_type": "code",
   "execution_count": 115,
   "metadata": {},
   "outputs": [
    {
     "name": "stdout",
     "output_type": "stream",
     "text": [
      "Sodium 4-[[4-(dimethylamino)phenyl]- (4-dimethyliminiocyclohexa-2,5-dien-1-ylidene) methyl]-3-hydroxy-7-sulfo-naphthalene-2-sulfonate RI at 1 M: 1.415\n"
     ]
    }
   ],
   "source": [
    "# Sodium 4-[[4-(dimethylamino)phenyl]- (4-dimethyliminiocyclohexa-2,5-dien-1-ylidene) methyl]-3-hydroxy-7-sulfo-naphthalene-2-sulfonate - compound 17\n",
    "predict_ri(\"Sodium 4-[[4-(dimethylamino)phenyl]- (4-dimethyliminiocyclohexa-2,5-dien-1-ylidene) methyl]-3-hydroxy-7-sulfo-naphthalene-2-sulfonate\",\n",
    "           \"CN(C)C1=CC=C(C=C1)C(=C2C=CC(=[N+](C)C)C=C2)C3=C4C=CC(=CC4=CC(=C3O)S(=O)(=O)[O-])S(=O)(=O)[O-].[Na+]\",\n",
    "           1)"
   ]
  },
  {
   "cell_type": "code",
   "execution_count": 116,
   "metadata": {},
   "outputs": [
    {
     "name": "stdout",
     "output_type": "stream",
     "text": [
      "Isosulfan Blue RI at 1 M: 1.415\n"
     ]
    }
   ],
   "source": [
    "# Isosulfan Blue - compound 18\n",
    "predict_ri(\"Isosulfan Blue\",\n",
    "           \"C(C1=C(S(=O)(=O)[O-])C=CC(S(=O)(=O)O)=C1)(C2=CC=C(N(CC)CC)C=C2)=C3C=CC(=[N+](CC)CC)C=C3.[Na]\",\n",
    "           1)"
   ]
  },
  {
   "cell_type": "code",
   "execution_count": 117,
   "metadata": {},
   "outputs": [
    {
     "name": "stdout",
     "output_type": "stream",
     "text": [
      "3,7-bis(diethylamino)-phenoxazin-5-ium chloride RI at 1 M: 1.396\n"
     ]
    }
   ],
   "source": [
    "# 3,7-bis(diethylamino)-phenoxazin-5-ium chloride - compound 19\n",
    "predict_ri(\"3,7-bis(diethylamino)-phenoxazin-5-ium chloride\",\n",
    "           \"CC[N+](=C1C=CC2=NC3=C(C=C(C4=CC=CC=C43)N)OC2=C1)CC.[Cl-]\",\n",
    "           1)"
   ]
  },
  {
   "cell_type": "code",
   "execution_count": 118,
   "metadata": {},
   "outputs": [
    {
     "name": "stdout",
     "output_type": "stream",
     "text": [
      "Sodium 4-[2-[2-[2-chloro-3-[2-[3,3-dimethyl -1-(4-sulfonatobutyl)indol-1-ium-2-yl]vinyl] cyclohex-2-en-1-ylidene]ethylidene]-3,3- dimethyl-indolin-1-yl]butane-1-sulfonate RI at 1 M: 1.405\n"
     ]
    }
   ],
   "source": [
    "# Sodium 4-[2-[2-[2-chloro-3-[2-[3,3-dimethyl -1-(4-sulfonatobutyl)indol-1-ium-2-yl]vinyl] cyclohex-2-en-1-ylidene]ethylidene]-3,3- dimethyl-indolin-1-yl]butane-1-sulfonate - compound 21\n",
    "predict_ri(\"Sodium 4-[2-[2-[2-chloro-3-[2-[3,3-dimethyl -1-(4-sulfonatobutyl)indol-1-ium-2-yl]vinyl] cyclohex-2-en-1-ylidene]ethylidene]-3,3- dimethyl-indolin-1-yl]butane-1-sulfonate\",\n",
    "           \"CC1(C2=CC=CC=C2[N+](=C1C=CC3=C(C(=CC=C4C(C5=CC=CC=C5N4CCCCS(=O)(=O)[O-])(C)C)CCC3)Cl)CCCCS(=O)(=O)[O-])C.[Na+]\",\n",
    "           1)"
   ]
  },
  {
   "cell_type": "code",
   "execution_count": 119,
   "metadata": {},
   "outputs": [
    {
     "name": "stdout",
     "output_type": "stream",
     "text": [
      "Evans blue RI at 1 M: 1.423\n"
     ]
    }
   ],
   "source": [
    "# Evans blue\n",
    "predict_ri(\"Evans blue\",\n",
    "           \"CC1=C(C=CC(=C1)C2=CC(=C(C=C2)N=NC3=C(C4=C(C=C3)C(=CC(=C4N)S(=O)(=O)[O-])S(=O)(=O)[O-])O)C)N=NC5=C(C6=C(C=C5)C(=CC(=C6N)S(=O)(=O)[O-])S(=O)(=O)[O-])O.[Na+].[Na+].[Na+].[Na+]\",\n",
    "           1)"
   ]
  },
  {
   "cell_type": "code",
   "execution_count": 120,
   "metadata": {},
   "outputs": [
    {
     "name": "stdout",
     "output_type": "stream",
     "text": [
      "ICG RI at 1 M: 1.415\n"
     ]
    }
   ],
   "source": [
    "# ICG\n",
    "predict_ri(\"ICG\",\n",
    "           \"CC1(C(=[N+](C2=C1C3=CC=CC=C3C=C2)CCCCS(=O)(=O)[O-])/C=C/C=C/C=C/C=C\\\\4/C(C5=C(N4CCCCS(=O)(=O)[O-])C=CC6=CC=CC=C65)(C)C)C.[Na+]\",\n",
    "           1)"
   ]
  },
  {
   "cell_type": "code",
   "execution_count": 121,
   "metadata": {},
   "outputs": [
    {
     "name": "stdout",
     "output_type": "stream",
     "text": [
      "Ampyrone RI at 2.26 M: 1.438\n"
     ]
    }
   ],
   "source": [
    "# Ampyrone\n",
    "predict_ri(\"Ampyrone\",\n",
    "           \"CC1=C(C(=O)N(N1C)C2=CC=CC=C2)N\",\n",
    "           2.26)    # 2.26 M = 38% w/w (ref)"
   ]
  }
 ],
 "metadata": {
  "kernelspec": {
   "display_name": "benmd",
   "language": "python",
   "name": "python3"
  },
  "language_info": {
   "codemirror_mode": {
    "name": "ipython",
    "version": 3
   },
   "file_extension": ".py",
   "mimetype": "text/x-python",
   "name": "python",
   "nbconvert_exporter": "python",
   "pygments_lexer": "ipython3",
   "version": "3.10.8"
  }
 },
 "nbformat": 4,
 "nbformat_minor": 2
}
